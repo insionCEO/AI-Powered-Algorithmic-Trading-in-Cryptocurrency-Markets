{
 "cells": [
  {
   "cell_type": "code",
   "execution_count": 117,
   "metadata": {
    "collapsed": true
   },
   "outputs": [],
   "source": [
    "import seaborn as sns\n",
    "from pylab import rcParams\n",
    "import matplotlib.pyplot as plt\n",
    "from matplotlib import rc\n",
    "import math\n",
    "import matplotlib\n",
    "\n",
    "import pandas as pd\n",
    "import numpy as np\n",
    "from tqdm.notebook import tqdm\n",
    "\n",
    "import torch\n",
    "import torch.autograd as autograd\n",
    "import torch.nn as nn\n",
    "import torch.nn.functional as F\n",
    "import torch.optim as optim\n",
    "\n",
    "import pytorch_lightning as pl\n",
    "from pytorch_lightning.callbacks import ModelCheckpoint, EarlyStopping\n",
    "from pytorch_lightning.loggers import TensorBoardLogger\n",
    "\n",
    "from torch.utils.data import Dataset, DataLoader\n",
    "from sklearn.preprocessing import MinMaxScaler\n",
    "\n",
    "from collections import defaultdict"
   ]
  },
  {
   "cell_type": "markdown",
   "source": [
    "## Styling Settings"
   ],
   "metadata": {
    "collapsed": false
   }
  },
  {
   "cell_type": "code",
   "execution_count": 118,
   "outputs": [],
   "source": [
    "%matplotlib inline\n",
    "%config InlineBackend.figure_format='retina'\n",
    "\n",
    "tqdm.pandas()"
   ],
   "metadata": {
    "collapsed": false
   }
  },
  {
   "cell_type": "code",
   "execution_count": 119,
   "outputs": [
    {
     "data": {
      "text/plain": "                       system_time   midpoint  spread          buys  \\\n0 2021-04-07 11:33:41.122161+00:00  55896.285    0.01  4.448599e+06   \n1 2021-04-07 11:34:41.122161+00:00  55948.685    1.43  1.243244e+06   \n2 2021-04-07 11:35:41.122161+00:00  56013.785    0.01  3.069094e+06   \n3 2021-04-07 11:36:41.122161+00:00  55903.575    7.17  1.220819e+06   \n4 2021-04-07 11:37:41.122161+00:00  55899.995    0.01  2.011287e+06   \n\n          sells  \n0  3.899402e+06  \n1  3.606502e+06  \n2  1.575759e+06  \n3  1.321487e+06  \n4  3.083005e+06  ",
      "text/html": "<div>\n<style scoped>\n    .dataframe tbody tr th:only-of-type {\n        vertical-align: middle;\n    }\n\n    .dataframe tbody tr th {\n        vertical-align: top;\n    }\n\n    .dataframe thead th {\n        text-align: right;\n    }\n</style>\n<table border=\"1\" class=\"dataframe\">\n  <thead>\n    <tr style=\"text-align: right;\">\n      <th></th>\n      <th>system_time</th>\n      <th>midpoint</th>\n      <th>spread</th>\n      <th>buys</th>\n      <th>sells</th>\n    </tr>\n  </thead>\n  <tbody>\n    <tr>\n      <th>0</th>\n      <td>2021-04-07 11:33:41.122161+00:00</td>\n      <td>55896.285</td>\n      <td>0.01</td>\n      <td>4.448599e+06</td>\n      <td>3.899402e+06</td>\n    </tr>\n    <tr>\n      <th>1</th>\n      <td>2021-04-07 11:34:41.122161+00:00</td>\n      <td>55948.685</td>\n      <td>1.43</td>\n      <td>1.243244e+06</td>\n      <td>3.606502e+06</td>\n    </tr>\n    <tr>\n      <th>2</th>\n      <td>2021-04-07 11:35:41.122161+00:00</td>\n      <td>56013.785</td>\n      <td>0.01</td>\n      <td>3.069094e+06</td>\n      <td>1.575759e+06</td>\n    </tr>\n    <tr>\n      <th>3</th>\n      <td>2021-04-07 11:36:41.122161+00:00</td>\n      <td>55903.575</td>\n      <td>7.17</td>\n      <td>1.220819e+06</td>\n      <td>1.321487e+06</td>\n    </tr>\n    <tr>\n      <th>4</th>\n      <td>2021-04-07 11:37:41.122161+00:00</td>\n      <td>55899.995</td>\n      <td>0.01</td>\n      <td>2.011287e+06</td>\n      <td>3.083005e+06</td>\n    </tr>\n  </tbody>\n</table>\n</div>"
     },
     "execution_count": 119,
     "metadata": {},
     "output_type": "execute_result"
    }
   ],
   "source": [
    "df = pd.read_csv(\"../../data/BTC_1min.csv\" , parse_dates=[\"system_time\"])\n",
    "#Sort the data just incase it's not\n",
    "df = df.sort_values(by=\"system_time\").reset_index(drop=True)\n",
    "df.drop(\"Unnamed: 0\", inplace = True, axis = 1)\n",
    "# Keep only the first 5 columns\n",
    "df = df.iloc[:, :5]\n",
    "df.head()"
   ],
   "metadata": {
    "collapsed": false
   }
  },
  {
   "cell_type": "code",
   "execution_count": 120,
   "outputs": [
    {
     "data": {
      "text/plain": "(17113, 5)"
     },
     "execution_count": 120,
     "metadata": {},
     "output_type": "execute_result"
    }
   ],
   "source": [
    "#Number of records and columns\n",
    "df.shape"
   ],
   "metadata": {
    "collapsed": false
   }
  },
  {
   "cell_type": "markdown",
   "source": [
    "## Split Into Traning, Validation and Test\n"
   ],
   "metadata": {
    "collapsed": false
   }
  },
  {
   "cell_type": "code",
   "execution_count": 121,
   "outputs": [
    {
     "name": "stdout",
     "output_type": "stream",
     "text": [
      "Train shape: (11979, 5)\n",
      "Validation shape: (2566, 5)\n",
      "Test shape: (2568, 5)\n"
     ]
    },
    {
     "data": {
      "text/plain": "                           system_time   midpoint  spread           buys  \\\n14545 2021-04-17 14:57:00.119741+00:00  60763.475    2.23  271816.745971   \n14546 2021-04-17 14:58:00.119741+00:00  60851.115    0.01  156624.903424   \n14547 2021-04-17 14:59:00.119741+00:00  60779.705    0.01  153774.177750   \n14548 2021-04-17 15:00:00.119741+00:00  60722.080    5.00  169720.641668   \n14549 2021-04-17 15:01:00.119741+00:00  60671.945    0.01  163924.215313   \n\n               sells  \n14545  415404.971343  \n14546  128126.170225  \n14547  350202.171777  \n14548   88220.281238  \n14549  812911.422822  ",
      "text/html": "<div>\n<style scoped>\n    .dataframe tbody tr th:only-of-type {\n        vertical-align: middle;\n    }\n\n    .dataframe tbody tr th {\n        vertical-align: top;\n    }\n\n    .dataframe thead th {\n        text-align: right;\n    }\n</style>\n<table border=\"1\" class=\"dataframe\">\n  <thead>\n    <tr style=\"text-align: right;\">\n      <th></th>\n      <th>system_time</th>\n      <th>midpoint</th>\n      <th>spread</th>\n      <th>buys</th>\n      <th>sells</th>\n    </tr>\n  </thead>\n  <tbody>\n    <tr>\n      <th>14545</th>\n      <td>2021-04-17 14:57:00.119741+00:00</td>\n      <td>60763.475</td>\n      <td>2.23</td>\n      <td>271816.745971</td>\n      <td>415404.971343</td>\n    </tr>\n    <tr>\n      <th>14546</th>\n      <td>2021-04-17 14:58:00.119741+00:00</td>\n      <td>60851.115</td>\n      <td>0.01</td>\n      <td>156624.903424</td>\n      <td>128126.170225</td>\n    </tr>\n    <tr>\n      <th>14547</th>\n      <td>2021-04-17 14:59:00.119741+00:00</td>\n      <td>60779.705</td>\n      <td>0.01</td>\n      <td>153774.177750</td>\n      <td>350202.171777</td>\n    </tr>\n    <tr>\n      <th>14548</th>\n      <td>2021-04-17 15:00:00.119741+00:00</td>\n      <td>60722.080</td>\n      <td>5.00</td>\n      <td>169720.641668</td>\n      <td>88220.281238</td>\n    </tr>\n    <tr>\n      <th>14549</th>\n      <td>2021-04-17 15:01:00.119741+00:00</td>\n      <td>60671.945</td>\n      <td>0.01</td>\n      <td>163924.215313</td>\n      <td>812911.422822</td>\n    </tr>\n  </tbody>\n</table>\n</div>"
     },
     "execution_count": 121,
     "metadata": {},
     "output_type": "execute_result"
    }
   ],
   "source": [
    "TRAIN_SET = .7\n",
    "VAL_SET = .15\n",
    "TEST_SET = .15\n",
    "\n",
    "# Total number of samples in the data\n",
    "total_samples = len(df)\n",
    "\n",
    "# Calculate the number of samples for each split\n",
    "train_samples = int(total_samples * TRAIN_SET)\n",
    "val_samples = int(total_samples * VAL_SET)\n",
    "test_samples = total_samples - train_samples - val_samples\n",
    "\n",
    "# Split the data into train, validation, and test sets\n",
    "train_df = df[:train_samples]\n",
    "val_df = df[train_samples:train_samples+val_samples]\n",
    "test_df = df[train_samples+val_samples:]\n",
    "\n",
    "# Print the shapes of the splits\n",
    "print(\"Train shape:\", train_df.shape)\n",
    "print(\"Validation shape:\", val_df.shape)\n",
    "print(\"Test shape:\", test_df.shape)\n",
    "\n",
    "test_df.head()"
   ],
   "metadata": {
    "collapsed": false
   }
  },
  {
   "cell_type": "markdown",
   "source": [
    "## Normalise the Data"
   ],
   "metadata": {
    "collapsed": false
   }
  },
  {
   "cell_type": "code",
   "execution_count": 122,
   "outputs": [
    {
     "data": {
      "text/plain": "                                  midpoint    spread      buys     sells\nsystem_time                                                             \n2021-04-07 11:33:41.122161+00:00 -0.901161 -1.000000 -0.221796 -0.267346\n2021-04-07 11:34:41.122161+00:00 -0.890046 -0.916150 -0.782711 -0.322380\n2021-04-07 11:35:41.122161+00:00 -0.876237 -1.000000 -0.463200 -0.703947\n2021-04-07 11:36:41.122161+00:00 -0.899615 -0.577207 -0.786635 -0.751723\n2021-04-07 11:37:41.122161+00:00 -0.900374 -1.000000 -0.648308 -0.420743",
      "text/html": "<div>\n<style scoped>\n    .dataframe tbody tr th:only-of-type {\n        vertical-align: middle;\n    }\n\n    .dataframe tbody tr th {\n        vertical-align: top;\n    }\n\n    .dataframe thead th {\n        text-align: right;\n    }\n</style>\n<table border=\"1\" class=\"dataframe\">\n  <thead>\n    <tr style=\"text-align: right;\">\n      <th></th>\n      <th>midpoint</th>\n      <th>spread</th>\n      <th>buys</th>\n      <th>sells</th>\n    </tr>\n    <tr>\n      <th>system_time</th>\n      <th></th>\n      <th></th>\n      <th></th>\n      <th></th>\n    </tr>\n  </thead>\n  <tbody>\n    <tr>\n      <th>2021-04-07 11:33:41.122161+00:00</th>\n      <td>-0.901161</td>\n      <td>-1.000000</td>\n      <td>-0.221796</td>\n      <td>-0.267346</td>\n    </tr>\n    <tr>\n      <th>2021-04-07 11:34:41.122161+00:00</th>\n      <td>-0.890046</td>\n      <td>-0.916150</td>\n      <td>-0.782711</td>\n      <td>-0.322380</td>\n    </tr>\n    <tr>\n      <th>2021-04-07 11:35:41.122161+00:00</th>\n      <td>-0.876237</td>\n      <td>-1.000000</td>\n      <td>-0.463200</td>\n      <td>-0.703947</td>\n    </tr>\n    <tr>\n      <th>2021-04-07 11:36:41.122161+00:00</th>\n      <td>-0.899615</td>\n      <td>-0.577207</td>\n      <td>-0.786635</td>\n      <td>-0.751723</td>\n    </tr>\n    <tr>\n      <th>2021-04-07 11:37:41.122161+00:00</th>\n      <td>-0.900374</td>\n      <td>-1.000000</td>\n      <td>-0.648308</td>\n      <td>-0.420743</td>\n    </tr>\n  </tbody>\n</table>\n</div>"
     },
     "execution_count": 122,
     "metadata": {},
     "output_type": "execute_result"
    }
   ],
   "source": [
    "train_df = train_df.set_index('system_time')\n",
    "val_df = test_df.set_index('system_time')\n",
    "test_df = test_df.set_index('system_time')\n",
    "\n",
    "\n",
    "scaler = MinMaxScaler(feature_range=(-1, 1))\n",
    "scaler = scaler.fit(train_df)\n",
    "\n",
    "train_df = pd.DataFrame(\n",
    "    scaler.transform(train_df),\n",
    "    index = train_df.index,\n",
    "    columns = train_df.columns\n",
    ")\n",
    "\n",
    "val_df = pd.DataFrame(\n",
    "    scaler.transform(val_df),\n",
    "    index = test_df.index,\n",
    "    columns = test_df.columns\n",
    ")\n",
    "\n",
    "test_df = pd.DataFrame(\n",
    "    scaler.transform(test_df),\n",
    "    index = test_df.index,\n",
    "    columns = test_df.columns\n",
    ")\n",
    "\n",
    "train_df.head()"
   ],
   "metadata": {
    "collapsed": false
   }
  },
  {
   "cell_type": "markdown",
   "source": [
    "## Create Sequences"
   ],
   "metadata": {
    "collapsed": false
   }
  },
  {
   "cell_type": "code",
   "execution_count": 123,
   "outputs": [],
   "source": [
    "def create_sequences(input_data: pd.DataFrame, target_column, sequence_length=3):\n",
    "  sequences = []\n",
    "  data_size = len(input_data)\n",
    "\n",
    "  for i in tqdm(range(data_size - sequence_length)):\n",
    "    sequence = input_data[i:i+sequence_length]\n",
    "    label_position = i + sequence_length\n",
    "    label = input_data.iloc[label_position][target_column]\n",
    "\n",
    "    sequences.append((sequence, label))\n",
    "\n",
    "  return sequences"
   ],
   "metadata": {
    "collapsed": false
   }
  },
  {
   "cell_type": "code",
   "execution_count": 124,
   "outputs": [
    {
     "data": {
      "text/plain": "  0%|          | 0/11879 [00:00<?, ?it/s]",
      "application/vnd.jupyter.widget-view+json": {
       "version_major": 2,
       "version_minor": 0,
       "model_id": "afcbd59438c1491f892a945e3aaaa3ed"
      }
     },
     "metadata": {},
     "output_type": "display_data"
    },
    {
     "data": {
      "text/plain": "  0%|          | 0/2468 [00:00<?, ?it/s]",
      "application/vnd.jupyter.widget-view+json": {
       "version_major": 2,
       "version_minor": 0,
       "model_id": "7b95c0c0d26644648e06e66382be610a"
      }
     },
     "metadata": {},
     "output_type": "display_data"
    },
    {
     "data": {
      "text/plain": "  0%|          | 0/2468 [00:00<?, ?it/s]",
      "application/vnd.jupyter.widget-view+json": {
       "version_major": 2,
       "version_minor": 0,
       "model_id": "4221906450dc414fbfa7f4a0a8e0e7ad"
      }
     },
     "metadata": {},
     "output_type": "display_data"
    }
   ],
   "source": [
    "SEQUENCE_LENGTH = 100\n",
    "\n",
    "train_sequences = create_sequences(train_df, \"midpoint\", sequence_length=SEQUENCE_LENGTH)\n",
    "val_sequences = create_sequences(val_df, \"midpoint\", sequence_length=SEQUENCE_LENGTH)\n",
    "test_sequences = create_sequences(test_df, \"midpoint\", sequence_length=SEQUENCE_LENGTH)"
   ],
   "metadata": {
    "collapsed": false
   }
  },
  {
   "cell_type": "code",
   "execution_count": 125,
   "outputs": [
    {
     "name": "stdout",
     "output_type": "stream",
     "text": [
      "Label:  -0.736226848537493\n",
      "\n",
      "Sequence:                                    midpoint    spread      buys     sells\n",
      "system_time                                                             \n",
      "2021-04-07 11:33:41.122161+00:00 -0.901161 -1.000000 -0.221796 -0.267346\n",
      "2021-04-07 11:34:41.122161+00:00 -0.890046 -0.916150 -0.782711 -0.322380\n",
      "2021-04-07 11:35:41.122161+00:00 -0.876237 -1.000000 -0.463200 -0.703947\n",
      "2021-04-07 11:36:41.122161+00:00 -0.899615 -0.577207 -0.786635 -0.751723\n",
      "2021-04-07 11:37:41.122161+00:00 -0.900374 -1.000000 -0.648308 -0.420743\n",
      "...                                    ...       ...       ...       ...\n",
      "2021-04-07 13:08:41.122161+00:00 -0.754964 -0.936227 -0.921722 -0.968393\n",
      "2021-04-07 13:09:41.122161+00:00 -0.751068 -1.000000 -0.883525 -0.919799\n",
      "2021-04-07 13:10:41.122161+00:00 -0.762495 -1.000000 -0.956782 -0.959068\n",
      "2021-04-07 13:11:41.122161+00:00 -0.759446 -1.000000 -0.922827 -0.993496\n",
      "2021-04-07 13:12:41.122161+00:00 -0.749897 -1.000000 -0.916512 -0.992701\n",
      "\n",
      "[100 rows x 4 columns]\n",
      "Sequence Shape:  (100, 4)\n"
     ]
    }
   ],
   "source": [
    "# Let's check first sequence label and data\n",
    "print(\"Label: \", train_sequences[0][1])\n",
    "print(\"\")\n",
    "print(\"Sequence: \",train_sequences[0][0])\n",
    "print(\"Sequence Shape: \",train_sequences[0][0].shape)"
   ],
   "metadata": {
    "collapsed": false
   }
  },
  {
   "cell_type": "code",
   "execution_count": 126,
   "outputs": [
    {
     "data": {
      "text/plain": "(11879, 2468, 2468)"
     },
     "execution_count": 126,
     "metadata": {},
     "output_type": "execute_result"
    }
   ],
   "source": [
    "len(train_sequences), len(val_sequences),len(test_sequences)\n"
   ],
   "metadata": {
    "collapsed": false
   }
  },
  {
   "cell_type": "code",
   "execution_count": 127,
   "outputs": [],
   "source": [
    "class BTCDataset(Dataset):\n",
    "  def __init__(self, sequences):\n",
    "    self.sequences = sequences\n",
    "\n",
    "  def __len__(self):\n",
    "    return len(self.sequences)\n",
    "\n",
    "  def __getitem__(self, idx):\n",
    "    sequence, label = self.sequences[idx]\n",
    "    return dict(\n",
    "        sequence = torch.Tensor(sequence.to_numpy()),\n",
    "        label = torch.tensor(label).float()\n",
    "    )"
   ],
   "metadata": {
    "collapsed": false
   }
  },
  {
   "cell_type": "code",
   "execution_count": 128,
   "outputs": [],
   "source": [
    "class BTCPriceDataModule(pl.LightningDataModule):\n",
    "  def __init__(\n",
    "      self, train_sequences, val_sequences,test_sequences, batch_size = 8\n",
    "  ):\n",
    "    super().__init__()\n",
    "    self.train_sequences = train_sequences\n",
    "    self.val_sequences = val_sequences\n",
    "    self.test_sequences = test_sequences\n",
    "    self.batch_size = batch_size\n",
    "\n",
    "  def setup(self, stage=None):\n",
    "    self.train_dataset = BTCDataset(self.train_sequences)\n",
    "    self.val_dataset = BTCDataset(self.val_sequences)\n",
    "    self.test_dataset = BTCDataset(self.test_sequences)\n",
    "\n",
    "  def train_dataloader(self):\n",
    "    return DataLoader(\n",
    "        self.train_dataset,\n",
    "        batch_size = self.batch_size,\n",
    "        shuffle = False,\n",
    "        num_workers = 3\n",
    "    )\n",
    "\n",
    "  def val_dataloader(self):\n",
    "    return DataLoader(\n",
    "        self.val_dataset,\n",
    "        batch_size = self.batch_size,\n",
    "        shuffle = False,\n",
    "        num_workers =3\n",
    "    )\n",
    "  def test_dataloader(self):\n",
    "    return DataLoader(\n",
    "        self.test_dataset,\n",
    "        batch_size = self.batch_size,\n",
    "        shuffle = False,\n",
    "        num_workers =6\n",
    "    )"
   ],
   "metadata": {
    "collapsed": false
   }
  },
  {
   "cell_type": "code",
   "execution_count": 129,
   "outputs": [],
   "source": [
    "N_EPOCHS = 20\n",
    "BATCH_SIZE = 128\n",
    "\n",
    "data_module = BTCPriceDataModule(train_sequences, val_sequences,test_sequences, batch_size = BATCH_SIZE)\n",
    "data_module.setup()"
   ],
   "metadata": {
    "collapsed": false
   }
  },
  {
   "cell_type": "code",
   "execution_count": 130,
   "outputs": [],
   "source": [
    "train_dataset = BTCDataset(train_sequences)"
   ],
   "metadata": {
    "collapsed": false
   }
  },
  {
   "cell_type": "code",
   "execution_count": 131,
   "outputs": [
    {
     "name": "stdout",
     "output_type": "stream",
     "text": [
      "Sequence Shape:  torch.Size([100, 4])\n",
      "Label: -0.7362268567085266 and Label Shape: torch.Size([])\n"
     ]
    }
   ],
   "source": [
    "# Testing our dataloader\n",
    "a = iter(train_dataset)\n",
    "b = next(a)\n",
    "print(\"Sequence Shape: \", b[\"sequence\"].shape)\n",
    "print(\"Label: {} and Label Shape: {}\".format(b[\"label\"], b[\"label\"].shape) )"
   ],
   "metadata": {
    "collapsed": false
   }
  },
  {
   "cell_type": "code",
   "execution_count": 132,
   "outputs": [],
   "source": [
    "class PricePredictionModel(nn.Module):\n",
    "  def __init__(self, n_features, n_hidden=32, n_layers=2):\n",
    "    super().__init__()\n",
    "\n",
    "    self.n_hidden = n_hidden\n",
    "\n",
    "    self.lstm = nn.LSTM(\n",
    "        input_size = n_features,\n",
    "        hidden_size = n_hidden,\n",
    "        batch_first = True,\n",
    "        num_layers = n_layers, # Stack LSTMs\n",
    "        dropout = 0.2\n",
    "    )\n",
    "\n",
    "    self.regressor = nn.Linear(n_hidden, 1)\n",
    "\n",
    "  def forward(self, x):\n",
    "    self.lstm.flatten_parameters()  # For distrubuted training\n",
    "\n",
    "    _, (hidden, _) = self.lstm(x)\n",
    "    # We want the output from the last layer to go into the final\n",
    "    # regressor linear layer\n",
    "    out = hidden[-1]\n",
    "\n",
    "    return self.regressor(out)"
   ],
   "metadata": {
    "collapsed": false
   }
  },
  {
   "cell_type": "code",
   "execution_count": 133,
   "outputs": [],
   "source": [
    "class BTCPricePredictor(pl.LightningModule):\n",
    "\n",
    "  def __init__(self, n_features: int):\n",
    "    super().__init__()\n",
    "    self.model = PricePredictionModel(n_features)\n",
    "    self.criterion = nn.MSELoss()\n",
    "\n",
    "  def forward(self, x, labels=None):\n",
    "    output = self.model(x)\n",
    "\n",
    "    loss = 0\n",
    "\n",
    "    if labels is not None:\n",
    "      loss = self.criterion(output, labels.unsqueeze(dim=1))\n",
    "\n",
    "    return loss, output\n",
    "\n",
    "  def training_step(self, batch, batch_idx):\n",
    "    sequences = batch[\"sequence\"]\n",
    "    labels = batch[\"label\"]\n",
    "\n",
    "    loss, output = self.forward(sequences, labels)\n",
    "\n",
    "    self.log(\"train_loss\", loss, prog_bar=True, logger=True)\n",
    "    return loss\n",
    "\n",
    "  def validation_step(self, batch, batch_idx):\n",
    "    sequences = batch[\"sequence\"]\n",
    "    labels = batch[\"label\"]\n",
    "\n",
    "    loss, output = self.forward(sequences, labels)\n",
    "\n",
    "    self.log(\"val_loss\", loss, prog_bar=True, logger=True)\n",
    "    return loss\n",
    "\n",
    "  def test_step(self, batch, batch_idx):\n",
    "    sequences = batch[\"sequence\"]\n",
    "    labels = batch[\"label\"]\n",
    "\n",
    "    loss, output = self.forward(sequences, labels)\n",
    "\n",
    "    self.log(\"test_loss\", loss, prog_bar=True, logger=True)\n",
    "    return loss\n",
    "\n",
    "  def configure_optimizers(self):\n",
    "    return optim.Adam(self.model.parameters(), lr=0.01)"
   ],
   "metadata": {
    "collapsed": false
   }
  },
  {
   "cell_type": "code",
   "execution_count": 134,
   "outputs": [],
   "source": [
    "n_features = b[\"sequence\"].shape[1]\n",
    "\n",
    "\n",
    "model = BTCPricePredictor(n_features = n_features)"
   ],
   "metadata": {
    "collapsed": false
   }
  },
  {
   "cell_type": "code",
   "execution_count": null,
   "outputs": [],
   "source": [
    "for item in data_module.train_dataloader():\n",
    "  print(item[\"sequence\"].shape)\n",
    "  print(item[\"label\"].shape)\n",
    "  break"
   ],
   "metadata": {
    "collapsed": false,
    "pycharm": {
     "is_executing": true
    }
   }
  },
  {
   "cell_type": "code",
   "execution_count": null,
   "outputs": [],
   "source": [
    "# Starting tensorboard\n",
    "%reload_ext tensorboard\n",
    "%tensorboard --logdir ./lightning_logs"
   ],
   "metadata": {
    "collapsed": false,
    "pycharm": {
     "is_executing": true
    }
   }
  },
  {
   "cell_type": "code",
   "execution_count": null,
   "outputs": [],
   "source": [
    "import pytorch_lightning as pl\n",
    "from pytorch_lightning.callbacks import ModelCheckpoint, EarlyStopping\n",
    "from pytorch_lightning.loggers import TensorBoardLogger\n",
    "\n",
    "checkpoint_callback = ModelCheckpoint(\n",
    "    dirpath=\"checkpoints\",\n",
    "    filename=\"best-checkpoint\",\n",
    "    save_top_k = 1,\n",
    "    verbose = True,\n",
    "    monitor = \"val_loss\",\n",
    "    mode = \"min\"\n",
    ")\n",
    "\n",
    "logger = TensorBoardLogger(\"lightning_logs\", name = \"btc-price\")\n",
    "\n",
    "early_stopping_callback = EarlyStopping(monitor = \"val_loss\", patience = 5)"
   ],
   "metadata": {
    "collapsed": false,
    "pycharm": {
     "is_executing": true
    }
   }
  },
  {
   "cell_type": "code",
   "execution_count": null,
   "outputs": [],
   "source": [
    "trainer = pl.Trainer(\n",
    "    logger = logger,\n",
    "    callbacks = [early_stopping_callback , checkpoint_callback],\n",
    "    max_epochs = N_EPOCHS,\n",
    "    gpus = 1\n",
    ")\n"
   ],
   "metadata": {
    "collapsed": false,
    "pycharm": {
     "is_executing": true
    }
   }
  },
  {
   "cell_type": "code",
   "execution_count": null,
   "outputs": [],
   "source": [
    "trainer.fit(model, data_module)"
   ],
   "metadata": {
    "collapsed": false,
    "pycharm": {
     "is_executing": true
    }
   }
  },
  {
   "cell_type": "code",
   "execution_count": null,
   "outputs": [],
   "source": [
    "checkpoint_path = \"checkpoints/best-checkpoint-v12.ckpt\"\n",
    "\n",
    "trained_model = BTCPricePredictor.load_from_checkpoint(\n",
    "    checkpoint_path,\n",
    "    n_features = n_features\n",
    ")\n",
    "\n",
    "# Freezing the model for faster predictions\n",
    "trained_model.freeze()"
   ],
   "metadata": {
    "collapsed": false,
    "pycharm": {
     "is_executing": true
    }
   }
  },
  {
   "cell_type": "code",
   "execution_count": null,
   "outputs": [],
   "source": [
    "test_dataset = BTCDataset(test_sequences)\n",
    "predictions = []\n",
    "labels = []\n",
    "\n",
    "for item in tqdm(test_dataset):\n",
    "  sequence = item[\"sequence\"]\n",
    "  label = item[\"label\"]\n",
    "\n",
    "  _, output = trained_model(sequence)\n",
    "  predictions.append(output.item())\n",
    "  labels.append(label.item())"
   ],
   "metadata": {
    "collapsed": false,
    "pycharm": {
     "is_executing": true
    }
   }
  },
  {
   "cell_type": "code",
   "execution_count": null,
   "outputs": [],
   "source": [
    "len(predictions), len(test_df)"
   ],
   "metadata": {
    "collapsed": false,
    "pycharm": {
     "is_executing": true
    }
   }
  },
  {
   "cell_type": "code",
   "execution_count": null,
   "outputs": [],
   "source": [
    "len(test_df) - SEQUENCE_LENGTH"
   ],
   "metadata": {
    "collapsed": false,
    "pycharm": {
     "is_executing": true
    }
   }
  },
  {
   "cell_type": "code",
   "execution_count": null,
   "outputs": [],
   "source": [
    "# The values are normalised using MinMaxScaler\n",
    "test_df.head()"
   ],
   "metadata": {
    "collapsed": false,
    "pycharm": {
     "is_executing": true
    }
   }
  },
  {
   "cell_type": "code",
   "execution_count": null,
   "outputs": [],
   "source": [
    "descaler = MinMaxScaler()\n",
    "descaler.min_, descaler.scale_ = scaler.min_[-1], scaler.scale_[-1]\n",
    "\n",
    "\n",
    "def descale(descaler, values):\n",
    "  # Scaler works only with 2D data\n",
    "  values_2d = np.array(values)[:, np.newaxis]\n",
    "  return descaler.inverse_transform(values_2d).flatten()\n",
    "\n",
    "predictions_descaled = descale(descaler, predictions)\n",
    "labels_descaled = descale(descaler, labels)\n",
    "\n",
    "print(predictions_descaled[:3])\n",
    "print(labels_descaled[:3])"
   ],
   "metadata": {
    "collapsed": false,
    "pycharm": {
     "is_executing": true
    }
   }
  },
  {
   "cell_type": "code",
   "execution_count": null,
   "outputs": [],
   "source": [
    "test_data = df[train_samples+val_samples:]\n",
    "len(test_data), len(test_df)\n",
    "\n",
    "test_sequences_data = test_data.iloc[SEQUENCE_LENGTH:]\n",
    "len(test_sequences_data), len(test_sequences)"
   ],
   "metadata": {
    "collapsed": false,
    "pycharm": {
     "is_executing": true
    }
   }
  },
  {
   "cell_type": "code",
   "execution_count": null,
   "outputs": [],
   "source": [
    "test_sequences_data.head()"
   ],
   "metadata": {
    "collapsed": false,
    "pycharm": {
     "is_executing": true
    }
   }
  },
  {
   "cell_type": "code",
   "execution_count": null,
   "outputs": [],
   "source": [
    "predictions_descaled"
   ],
   "metadata": {
    "collapsed": false,
    "pycharm": {
     "is_executing": true
    }
   }
  },
  {
   "cell_type": "code",
   "execution_count": null,
   "outputs": [],
   "source": [
    "dates = test_sequences_data.system_time.tolist()\n",
    "plt.plot_date(dates, predictions_descaled, \"-\", label= \"Predicted\", color = \"g\")\n",
    "plt.plot_date(dates, labels_descaled, \"--\", label = \"Real\", color = \"b\")\n",
    "plt.xticks(rotation =45)\n",
    "plt.legend()"
   ],
   "metadata": {
    "collapsed": false,
    "pycharm": {
     "is_executing": true
    }
   }
  },
  {
   "cell_type": "code",
   "execution_count": null,
   "outputs": [],
   "source": [],
   "metadata": {
    "collapsed": false,
    "pycharm": {
     "is_executing": true
    }
   }
  }
 ],
 "metadata": {
  "kernelspec": {
   "display_name": "Python 3",
   "language": "python",
   "name": "python3"
  },
  "language_info": {
   "codemirror_mode": {
    "name": "ipython",
    "version": 2
   },
   "file_extension": ".py",
   "mimetype": "text/x-python",
   "name": "python",
   "nbconvert_exporter": "python",
   "pygments_lexer": "ipython2",
   "version": "2.7.6"
  }
 },
 "nbformat": 4,
 "nbformat_minor": 0
}

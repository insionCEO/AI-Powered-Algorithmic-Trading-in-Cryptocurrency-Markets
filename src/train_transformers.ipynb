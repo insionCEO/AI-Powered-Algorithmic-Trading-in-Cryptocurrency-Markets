{
 "cells": [
  {
   "cell_type": "code",
   "execution_count": 15,
   "metadata": {
    "collapsed": true
   },
   "outputs": [],
   "source": [
    "import pandas as pd\n",
    "import os\n",
    "\n",
    "import torch\n",
    "from experiments.transformers.train_pred import train , validation , test , build_model , get_data , load_model_pred , predict_price\n",
    "from data.transformers.utils import DotDict"
   ]
  },
  {
   "cell_type": "markdown",
   "source": [
    "### Select Model"
   ],
   "metadata": {
    "collapsed": false
   }
  },
  {
   "cell_type": "code",
   "execution_count": 16,
   "outputs": [],
   "source": [
    "args = DotDict\n",
    "\n",
    "args.model = 'pyraformer' # model of experiment list ['informer' , 'transformer' , 'pyraformer' ,'etsformer']"
   ],
   "metadata": {
    "collapsed": false
   }
  },
  {
   "cell_type": "markdown",
   "source": [
    "### Data Parameters"
   ],
   "metadata": {
    "collapsed": false
   }
  },
  {
   "cell_type": "code",
   "execution_count": 17,
   "outputs": [],
   "source": [
    "# Data Parameters\n",
    "args.data = 'BTC' # data ['BTC' or 'ETH']\n",
    "args.root_path_train = '../data/processed/train'\n",
    "args.data_path_train = 'processed-data-train-BTC.csv'\n",
    "args.root_path_test = '../data/processed/test'\n",
    "args.data_path_test = 'processed-data-test-BTC.csv'\n",
    "args.features = 'S' #  S:uni-variate predict uni-variate, MS: multivariate predict uni-variate\n",
    "args.target = 'midpoint' # target feature\n",
    "args.freq = 'Sec' # freq for time features encoding, options:[Sec:secondly, Min:minutely]\n",
    "args.normalise = True\n",
    "args.checkpoints = '../experiments/checkpoints' # location of model checkpoints\n",
    "args.timestamp = True"
   ],
   "metadata": {
    "collapsed": false
   }
  },
  {
   "cell_type": "markdown",
   "source": [
    "### MLFlow"
   ],
   "metadata": {
    "collapsed": false
   }
  },
  {
   "cell_type": "code",
   "execution_count": 18,
   "outputs": [],
   "source": [
    "#MLFlow Parameters\n",
    "args.experiment_name = \"Pyraformer-Final\"\n",
    "args.run_name = \"1-day-60s\""
   ],
   "metadata": {
    "collapsed": false
   }
  },
  {
   "cell_type": "markdown",
   "source": [
    "### Model Parameters"
   ],
   "metadata": {
    "collapsed": false
   }
  },
  {
   "cell_type": "code",
   "execution_count": 19,
   "outputs": [],
   "source": [
    "# Transformer Input Parameters\n",
    "args.seq_len = 180 # input sequence length of Informer encoder\n",
    "args.label_len = 60 # start token length of Informer decoder\n",
    "args.pred_len = 60 # prediction sequence length\n",
    "# Informer decoder input: concat[start token series(label_len), zero padding series(pred_len)]\n",
    "\n",
    "# Transformer Model Parameters\n",
    "args.enc_in = 1 # encoder input size\n",
    "args.dec_in = 1 # decoder input size\n",
    "args.c_out = 1 # output size\n",
    "\n",
    "args.d_model = 512 # dimension of model\n",
    "args.d_ff = 1024 # dimension of fcn in model\n",
    "args.n_heads = 8 # num of heads\n",
    "args.e_layers = 2 # num of encoder layers\n",
    "args.d_layers = 2 # num of decoder layers\n",
    "\n",
    "args.dropout = 0.05 # dropout\n",
    "args.attn = 'prob' # attention used in encoder, options:[prob, full]\n",
    "args.embed = 'timeF' # time features encoding, options:[timeF, fixed, learned]\n",
    "args.activation = 'gelu' # activation\n",
    "args.distil = True # whether to use distilling in encoder\n",
    "args.output_attention = False # whether to output attention in ecoder\n",
    "args.mix = True\n",
    "args.padding = 0\n",
    "\n",
    "#informer\n",
    "args.factor = 5 # probsparse attn factor\n",
    "\n",
    "\n",
    "# Pyraformer args\n",
    "args.window_size = [4,4]\n",
    "args.inner_size = 3\n"
   ],
   "metadata": {
    "collapsed": false
   }
  },
  {
   "cell_type": "markdown",
   "source": [
    "### Training Parameters"
   ],
   "metadata": {
    "collapsed": false
   }
  },
  {
   "cell_type": "code",
   "execution_count": 20,
   "outputs": [],
   "source": [
    "args.batch_size = 30\n",
    "args.learning_rate = 0.0001\n",
    "args.loss = 'mse'\n",
    "args.lr_adj = 'type1'\n",
    "args.use_amp = False # automatic mixed precision training\n",
    "\n",
    "args.num_workers = 0\n",
    "args.itr = 1\n",
    "args.train_epochs = 20\n",
    "args.patience = 3\n",
    "args.des = 'exp'\n",
    "\n",
    "args.use_gpu = True if torch.cuda.is_available() else False\n",
    "args.gpu = 0\n",
    "\n",
    "if args.use_gpu and torch.cuda.is_available():\n",
    "    args.device = torch.device(f'cuda:{args.gpu}')\n",
    "else:\n",
    "    args.device = torch.device('cpu')"
   ],
   "metadata": {
    "collapsed": false
   }
  },
  {
   "cell_type": "code",
   "execution_count": 21,
   "outputs": [
    {
     "name": "stdout",
     "output_type": "stream",
     "text": [
      "cuda:0\n"
     ]
    }
   ],
   "source": [
    "print(args.device)"
   ],
   "metadata": {
    "collapsed": false
   }
  },
  {
   "cell_type": "code",
   "execution_count": 22,
   "outputs": [
    {
     "name": "stdout",
     "output_type": "stream",
     "text": [
      "Args in experiment:\n",
      "{'model': 'pyraformer', 'data': 'BTC', 'root_path_train': '../data/processed/train', 'data_path_train': 'processed-data-train-BTC.csv', 'root_path_test': '../data/processed/test', 'data_path_test': 'processed-data-test-BTC.csv', 'features': 'S', 'target': 'midpoint', 'freq': 'Sec', 'normalise': True, 'checkpoints': '../experiments/checkpoints', 'timestamp': True, 'experiment_name': 'Pyraformer-Final', 'run_name': '1-day-60s', 'seq_len': 180, 'label_len': 60, 'pred_len': 60, 'enc_in': 1, 'dec_in': 1, 'c_out': 1, 'd_model': 512, 'd_ff': 1024, 'n_heads': 8, 'e_layers': 2, 'd_layers': 2, 'dropout': 0.05, 'attn': 'prob', 'embed': 'timeF', 'activation': 'gelu', 'distil': True, 'output_attention': False, 'mix': True, 'padding': 0, 'factor': 5, 'window_size': [4, 4], 'inner_size': 3, 'batch_size': 30, 'learning_rate': 0.0001, 'loss': 'mse', 'lr_adj': 'type1', 'use_amp': False, 'num_workers': 0, 'itr': 1, 'train_epochs': 20, 'patience': 3, 'des': 'exp', 'use_gpu': True, 'gpu': 0, 'device': device(type='cuda', index=0), 'run_id': '3984dd27bc544f1fabd3a1428ad0f866'}\n"
     ]
    }
   ],
   "source": [
    "filtered_args = {k: v for k, v in args.__dict__.items() if not k.startswith('__') and not k.endswith('__')}\n",
    "\n",
    "print('Args in experiment:')\n",
    "print(filtered_args)"
   ],
   "metadata": {
    "collapsed": false
   }
  },
  {
   "cell_type": "code",
   "execution_count": 23,
   "outputs": [
    {
     "name": "stdout",
     "output_type": "stream",
     "text": [
      "pyraformer_BTC_ftS_sl180_ll60_pl60_dm512_nh8_el2_dl2_df1024_atprob_fc5_ebtimeF_dtTrue_mxTrue_exp_1\n"
     ]
    }
   ],
   "source": [
    "ii = 1\n",
    "setting = '{}_{}_ft{}_sl{}_ll{}_pl{}_dm{}_nh{}_el{}_dl{}_df{}_at{}_fc{}_eb{}_dt{}_mx{}_{}_{}'.format(args.model, args.data, args.features,\n",
    "            args.seq_len, args.label_len, args.pred_len,\n",
    "            args.d_model, args.n_heads, args.e_layers, args.d_layers, args.d_ff, args.attn, args.factor, args.embed, args.distil, args.mix, args.des, ii)\n",
    "\n",
    "print(setting)"
   ],
   "metadata": {
    "collapsed": false
   }
  },
  {
   "cell_type": "code",
   "execution_count": 24,
   "outputs": [
    {
     "name": "stdout",
     "output_type": "stream",
     "text": [
      "Number of parameters: 4601276\n"
     ]
    }
   ],
   "source": [
    "model = build_model(args)\n",
    "model.to(args.device)\n",
    "\n",
    "\n",
    "# Calculate number of parameters\n",
    "num_params = sum(p.numel() for p in model.parameters() if p.requires_grad)\n",
    "print(f\"Number of parameters: {num_params}\")"
   ],
   "metadata": {
    "collapsed": false
   }
  },
  {
   "cell_type": "code",
   "execution_count": 25,
   "outputs": [
    {
     "name": "stdout",
     "output_type": "stream",
     "text": [
      ">>>>>>>start training: 1-day-60s>>>>>>>>>>>>>>>>>>>>>>>>>>\n",
      "train 54389\n",
      "val 13598\n"
     ]
    },
    {
     "name": "stderr",
     "output_type": "stream",
     "text": [
      "100%|██████████| 1812/1812 [01:57<00:00, 15.42it/s]\n"
     ]
    },
    {
     "name": "stdout",
     "output_type": "stream",
     "text": [
      "Epoch: 1 cost time: 117.49671578407288\n",
      "Epoch: 1, Steps: 1812 | Train Loss: 0.0171172 Vali Loss: 0.0077122\n",
      "Validation loss decreased (inf --> 0.007712). Saving model...\n",
      "Updating learning rate to 0.0001\n"
     ]
    },
    {
     "name": "stderr",
     "output_type": "stream",
     "text": [
      "100%|██████████| 1812/1812 [01:56<00:00, 15.51it/s]\n"
     ]
    },
    {
     "name": "stdout",
     "output_type": "stream",
     "text": [
      "Epoch: 2 cost time: 116.839022397995\n",
      "Epoch: 2, Steps: 1812 | Train Loss: 0.0123992 Vali Loss: 0.0054162\n",
      "Validation loss decreased (0.007712 --> 0.005416). Saving model...\n",
      "Updating learning rate to 5e-05\n"
     ]
    },
    {
     "name": "stderr",
     "output_type": "stream",
     "text": [
      "100%|██████████| 1812/1812 [01:56<00:00, 15.52it/s]\n"
     ]
    },
    {
     "name": "stdout",
     "output_type": "stream",
     "text": [
      "Epoch: 3 cost time: 116.7755343914032\n",
      "Epoch: 3, Steps: 1812 | Train Loss: 0.0106896 Vali Loss: 0.0044200\n",
      "Validation loss decreased (0.005416 --> 0.004420). Saving model...\n",
      "Updating learning rate to 2.5e-05\n"
     ]
    },
    {
     "name": "stderr",
     "output_type": "stream",
     "text": [
      "100%|██████████| 1812/1812 [01:56<00:00, 15.52it/s]\n"
     ]
    },
    {
     "name": "stdout",
     "output_type": "stream",
     "text": [
      "Epoch: 4 cost time: 116.72990274429321\n",
      "Epoch: 4, Steps: 1812 | Train Loss: 0.0100248 Vali Loss: 0.0042912\n",
      "Validation loss decreased (0.004420 --> 0.004291). Saving model...\n",
      "Updating learning rate to 1.25e-05\n"
     ]
    },
    {
     "name": "stderr",
     "output_type": "stream",
     "text": [
      "100%|██████████| 1812/1812 [01:56<00:00, 15.52it/s]\n"
     ]
    },
    {
     "name": "stdout",
     "output_type": "stream",
     "text": [
      "Epoch: 5 cost time: 116.7423026561737\n",
      "Epoch: 5, Steps: 1812 | Train Loss: 0.0095646 Vali Loss: 0.0042107\n",
      "Validation loss decreased (0.004291 --> 0.004211). Saving model...\n",
      "Updating learning rate to 6.25e-06\n"
     ]
    },
    {
     "name": "stderr",
     "output_type": "stream",
     "text": [
      "100%|██████████| 1812/1812 [01:56<00:00, 15.52it/s]\n"
     ]
    },
    {
     "name": "stdout",
     "output_type": "stream",
     "text": [
      "Epoch: 6 cost time: 116.77255868911743\n",
      "Epoch: 6, Steps: 1812 | Train Loss: 0.0093223 Vali Loss: 0.0044044\n",
      "EarlyStopping counter: 1 out of 3\n",
      "Updating learning rate to 3.125e-06\n"
     ]
    },
    {
     "name": "stderr",
     "output_type": "stream",
     "text": [
      "100%|██████████| 1812/1812 [01:56<00:00, 15.54it/s]\n"
     ]
    },
    {
     "name": "stdout",
     "output_type": "stream",
     "text": [
      "Epoch: 7 cost time: 116.59945487976074\n",
      "Epoch: 7, Steps: 1812 | Train Loss: 0.0092410 Vali Loss: 0.0041977\n",
      "Validation loss decreased (0.004211 --> 0.004198). Saving model...\n",
      "Updating learning rate to 1.5625e-06\n"
     ]
    },
    {
     "name": "stderr",
     "output_type": "stream",
     "text": [
      "100%|██████████| 1812/1812 [01:56<00:00, 15.62it/s]\n"
     ]
    },
    {
     "name": "stdout",
     "output_type": "stream",
     "text": [
      "Epoch: 8 cost time: 116.00822377204895\n",
      "Epoch: 8, Steps: 1812 | Train Loss: 0.0091564 Vali Loss: 0.0042006\n",
      "EarlyStopping counter: 1 out of 3\n",
      "Updating learning rate to 7.8125e-07\n"
     ]
    },
    {
     "name": "stderr",
     "output_type": "stream",
     "text": [
      "100%|██████████| 1812/1812 [01:56<00:00, 15.62it/s]\n"
     ]
    },
    {
     "name": "stdout",
     "output_type": "stream",
     "text": [
      "Epoch: 9 cost time: 116.04046392440796\n",
      "Epoch: 9, Steps: 1812 | Train Loss: 0.0091346 Vali Loss: 0.0041947\n",
      "Validation loss decreased (0.004198 --> 0.004195). Saving model...\n",
      "Updating learning rate to 3.90625e-07\n"
     ]
    },
    {
     "name": "stderr",
     "output_type": "stream",
     "text": [
      "100%|██████████| 1812/1812 [01:56<00:00, 15.59it/s]\n"
     ]
    },
    {
     "name": "stdout",
     "output_type": "stream",
     "text": [
      "Epoch: 10 cost time: 116.22745609283447\n",
      "Epoch: 10, Steps: 1812 | Train Loss: 0.0090900 Vali Loss: 0.0041729\n",
      "Validation loss decreased (0.004195 --> 0.004173). Saving model...\n",
      "Updating learning rate to 1.953125e-07\n"
     ]
    },
    {
     "name": "stderr",
     "output_type": "stream",
     "text": [
      "100%|██████████| 1812/1812 [01:56<00:00, 15.61it/s]\n"
     ]
    },
    {
     "name": "stdout",
     "output_type": "stream",
     "text": [
      "Epoch: 11 cost time: 116.08807969093323\n",
      "Epoch: 11, Steps: 1812 | Train Loss: 0.0090961 Vali Loss: 0.0041649\n",
      "Validation loss decreased (0.004173 --> 0.004165). Saving model...\n",
      "Updating learning rate to 9.765625e-08\n"
     ]
    },
    {
     "name": "stderr",
     "output_type": "stream",
     "text": [
      "100%|██████████| 1812/1812 [01:56<00:00, 15.58it/s]\n"
     ]
    },
    {
     "name": "stdout",
     "output_type": "stream",
     "text": [
      "Epoch: 12 cost time: 116.31475162506104\n",
      "Epoch: 12, Steps: 1812 | Train Loss: 0.0090816 Vali Loss: 0.0041510\n",
      "Validation loss decreased (0.004165 --> 0.004151). Saving model...\n",
      "Updating learning rate to 4.8828125e-08\n"
     ]
    },
    {
     "name": "stderr",
     "output_type": "stream",
     "text": [
      "100%|██████████| 1812/1812 [01:55<00:00, 15.71it/s]\n"
     ]
    },
    {
     "name": "stdout",
     "output_type": "stream",
     "text": [
      "Epoch: 13 cost time: 115.34804940223694\n",
      "Epoch: 13, Steps: 1812 | Train Loss: 0.0090725 Vali Loss: 0.0041764\n",
      "EarlyStopping counter: 1 out of 3\n",
      "Updating learning rate to 2.44140625e-08\n"
     ]
    },
    {
     "name": "stderr",
     "output_type": "stream",
     "text": [
      "100%|██████████| 1812/1812 [01:53<00:00, 16.01it/s]\n"
     ]
    },
    {
     "name": "stdout",
     "output_type": "stream",
     "text": [
      "Epoch: 14 cost time: 113.14779734611511\n",
      "Epoch: 14, Steps: 1812 | Train Loss: 0.0091001 Vali Loss: 0.0041759\n",
      "EarlyStopping counter: 2 out of 3\n",
      "Updating learning rate to 1.220703125e-08\n"
     ]
    },
    {
     "name": "stderr",
     "output_type": "stream",
     "text": [
      "100%|██████████| 1812/1812 [01:53<00:00, 16.00it/s]\n"
     ]
    },
    {
     "name": "stdout",
     "output_type": "stream",
     "text": [
      "Epoch: 15 cost time: 113.22070932388306\n",
      "Epoch: 15, Steps: 1812 | Train Loss: 0.0090639 Vali Loss: 0.0041689\n",
      "EarlyStopping counter: 3 out of 3\n",
      "Early stopping\n"
     ]
    },
    {
     "name": "stderr",
     "output_type": "stream",
     "text": [
      "C:\\Users\\misko\\OneDrive - University of Leeds\\Year 4\\Final Year Project\\GitHub\\src\\data\\transformers\\data_loader.py:181: SettingWithCopyWarning: \n",
      "A value is trying to be set on a copy of a slice from a DataFrame.\n",
      "Try using .loc[row_indexer,col_indexer] = value instead\n",
      "\n",
      "See the caveats in the documentation: https://pandas.pydata.org/pandas-docs/stable/user_guide/indexing.html#returning-a-view-versus-a-copy\n",
      "  df_stamp['date'] = pd.to_datetime(df_stamp.date)\n"
     ]
    },
    {
     "name": "stdout",
     "output_type": "stream",
     "text": [
      ">>>>>>>testing: 1-day-60s<<<<<<<<<<<<<<<<<<<<<<<<<<<<<<<<<\n",
      "test 16833\n",
      "loading model\n"
     ]
    },
    {
     "name": "stderr",
     "output_type": "stream",
     "text": [
      "100%|██████████| 561/561 [00:18<00:00, 29.75it/s]\n"
     ]
    },
    {
     "name": "stdout",
     "output_type": "stream",
     "text": [
      "test shape: (561, 30, 60, 1) (561, 30, 60, 1)\n",
      "test shape: (16830, 60, 1) (16830, 60, 1)\n",
      "MAE: 0.1478, MSE: 0.0860, RMSE: 0.2932, MAPE: 56.0683%, MSPE: 2141.6636%\n"
     ]
    }
   ],
   "source": [
    "\n",
    "# Train the model\n",
    "print('>>>>>>>start training: {}>>>>>>>>>>>>>>>>>>>>>>>>>>'.format(args.run_name))\n",
    "model, args = train(model=model, args=args, setting=setting)\n",
    "\n",
    "# Test the model\n",
    "print('>>>>>>>testing: {}<<<<<<<<<<<<<<<<<<<<<<<<<<<<<<<<<'.format(args.run_name))\n",
    "test(model=model, args=args, setting=setting)\n",
    "\n",
    "# Clear the GPU cache\n",
    "torch.cuda.empty_cache()"
   ],
   "metadata": {
    "collapsed": false
   }
  },
  {
   "cell_type": "code",
   "execution_count": 10,
   "outputs": [
    {
     "name": "stdout",
     "output_type": "stream",
     "text": [
      ">>>>>>>start training: 300-lookback-1-day-30s>>>>>>>>>>>>>>>>>>>>>>>>>>\n",
      "train 54299\n",
      "val 13628\n"
     ]
    },
    {
     "name": "stderr",
     "output_type": "stream",
     "text": [
      "100%|██████████| 1809/1809 [03:27<00:00,  8.70it/s]\n"
     ]
    },
    {
     "name": "stdout",
     "output_type": "stream",
     "text": [
      "Epoch: 1 cost time: 207.84145402908325\n",
      "Epoch: 1, Steps: 1809 | Train Loss: 0.0106400 Vali Loss: 0.0027642\n",
      "Validation loss decreased (inf --> 0.002764). Saving model...\n",
      "Updating learning rate to 0.0001\n"
     ]
    },
    {
     "name": "stderr",
     "output_type": "stream",
     "text": [
      "100%|██████████| 1809/1809 [03:26<00:00,  8.76it/s]\n"
     ]
    },
    {
     "name": "stdout",
     "output_type": "stream",
     "text": [
      "Epoch: 2 cost time: 206.40900921821594\n",
      "Epoch: 2, Steps: 1809 | Train Loss: 0.0064703 Vali Loss: 0.0024956\n",
      "Validation loss decreased (0.002764 --> 0.002496). Saving model...\n",
      "Updating learning rate to 5e-05\n"
     ]
    },
    {
     "name": "stderr",
     "output_type": "stream",
     "text": [
      "100%|██████████| 1809/1809 [03:26<00:00,  8.75it/s]\n"
     ]
    },
    {
     "name": "stdout",
     "output_type": "stream",
     "text": [
      "Epoch: 3 cost time: 206.82713627815247\n",
      "Epoch: 3, Steps: 1809 | Train Loss: 0.0053246 Vali Loss: 0.0023895\n",
      "Validation loss decreased (0.002496 --> 0.002389). Saving model...\n",
      "Updating learning rate to 2.5e-05\n"
     ]
    },
    {
     "name": "stderr",
     "output_type": "stream",
     "text": [
      "100%|██████████| 1809/1809 [03:25<00:00,  8.79it/s]\n"
     ]
    },
    {
     "name": "stdout",
     "output_type": "stream",
     "text": [
      "Epoch: 4 cost time: 205.71907424926758\n",
      "Epoch: 4, Steps: 1809 | Train Loss: 0.0048865 Vali Loss: 0.0018659\n",
      "Validation loss decreased (0.002389 --> 0.001866). Saving model...\n",
      "Updating learning rate to 1.25e-05\n"
     ]
    },
    {
     "name": "stderr",
     "output_type": "stream",
     "text": [
      "100%|██████████| 1809/1809 [03:24<00:00,  8.83it/s]\n"
     ]
    },
    {
     "name": "stdout",
     "output_type": "stream",
     "text": [
      "Epoch: 5 cost time: 204.8609960079193\n",
      "Epoch: 5, Steps: 1809 | Train Loss: 0.0046494 Vali Loss: 0.0021624\n",
      "EarlyStopping counter: 1 out of 3\n",
      "Updating learning rate to 6.25e-06\n"
     ]
    },
    {
     "name": "stderr",
     "output_type": "stream",
     "text": [
      "100%|██████████| 1809/1809 [03:23<00:00,  8.88it/s]\n"
     ]
    },
    {
     "name": "stdout",
     "output_type": "stream",
     "text": [
      "Epoch: 6 cost time: 203.68250274658203\n",
      "Epoch: 6, Steps: 1809 | Train Loss: 0.0045205 Vali Loss: 0.0018277\n",
      "Validation loss decreased (0.001866 --> 0.001828). Saving model...\n",
      "Updating learning rate to 3.125e-06\n"
     ]
    },
    {
     "name": "stderr",
     "output_type": "stream",
     "text": [
      "100%|██████████| 1809/1809 [03:20<00:00,  9.01it/s]\n"
     ]
    },
    {
     "name": "stdout",
     "output_type": "stream",
     "text": [
      "Epoch: 7 cost time: 200.8290193080902\n",
      "Epoch: 7, Steps: 1809 | Train Loss: 0.0044464 Vali Loss: 0.0018106\n",
      "Validation loss decreased (0.001828 --> 0.001811). Saving model...\n",
      "Updating learning rate to 1.5625e-06\n"
     ]
    },
    {
     "name": "stderr",
     "output_type": "stream",
     "text": [
      "100%|██████████| 1809/1809 [03:18<00:00,  9.13it/s]\n"
     ]
    },
    {
     "name": "stdout",
     "output_type": "stream",
     "text": [
      "Epoch: 8 cost time: 198.16600108146667\n",
      "Epoch: 8, Steps: 1809 | Train Loss: 0.0044079 Vali Loss: 0.0017037\n",
      "Validation loss decreased (0.001811 --> 0.001704). Saving model...\n",
      "Updating learning rate to 7.8125e-07\n"
     ]
    },
    {
     "name": "stderr",
     "output_type": "stream",
     "text": [
      "100%|██████████| 1809/1809 [03:18<00:00,  9.12it/s]\n"
     ]
    },
    {
     "name": "stdout",
     "output_type": "stream",
     "text": [
      "Epoch: 9 cost time: 198.35150480270386\n",
      "Epoch: 9, Steps: 1809 | Train Loss: 0.0043684 Vali Loss: 0.0017027\n",
      "Validation loss decreased (0.001704 --> 0.001703). Saving model...\n",
      "Updating learning rate to 3.90625e-07\n"
     ]
    },
    {
     "name": "stderr",
     "output_type": "stream",
     "text": [
      "100%|██████████| 1809/1809 [03:19<00:00,  9.09it/s]\n"
     ]
    },
    {
     "name": "stdout",
     "output_type": "stream",
     "text": [
      "Epoch: 10 cost time: 199.05036687850952\n",
      "Epoch: 10, Steps: 1809 | Train Loss: 0.0043498 Vali Loss: 0.0016965\n",
      "Validation loss decreased (0.001703 --> 0.001696). Saving model...\n",
      "Updating learning rate to 1.953125e-07\n"
     ]
    },
    {
     "name": "stderr",
     "output_type": "stream",
     "text": [
      "100%|██████████| 1809/1809 [03:25<00:00,  8.79it/s]\n"
     ]
    },
    {
     "name": "stdout",
     "output_type": "stream",
     "text": [
      "Epoch: 11 cost time: 205.87531423568726\n",
      "Epoch: 11, Steps: 1809 | Train Loss: 0.0043611 Vali Loss: 0.0016923\n",
      "Validation loss decreased (0.001696 --> 0.001692). Saving model...\n",
      "Updating learning rate to 9.765625e-08\n"
     ]
    },
    {
     "name": "stderr",
     "output_type": "stream",
     "text": [
      "100%|██████████| 1809/1809 [03:26<00:00,  8.74it/s]\n"
     ]
    },
    {
     "name": "stdout",
     "output_type": "stream",
     "text": [
      "Epoch: 12 cost time: 206.88864040374756\n",
      "Epoch: 12, Steps: 1809 | Train Loss: 0.0043393 Vali Loss: 0.0016912\n",
      "Validation loss decreased (0.001692 --> 0.001691). Saving model...\n",
      "Updating learning rate to 4.8828125e-08\n"
     ]
    },
    {
     "name": "stderr",
     "output_type": "stream",
     "text": [
      "100%|██████████| 1809/1809 [03:22<00:00,  8.95it/s]\n"
     ]
    },
    {
     "name": "stdout",
     "output_type": "stream",
     "text": [
      "Epoch: 13 cost time: 202.06455397605896\n",
      "Epoch: 13, Steps: 1809 | Train Loss: 0.0043277 Vali Loss: 0.0016937\n",
      "EarlyStopping counter: 1 out of 3\n",
      "Updating learning rate to 2.44140625e-08\n"
     ]
    },
    {
     "name": "stderr",
     "output_type": "stream",
     "text": [
      "100%|██████████| 1809/1809 [03:21<00:00,  8.97it/s]\n"
     ]
    },
    {
     "name": "stdout",
     "output_type": "stream",
     "text": [
      "Epoch: 14 cost time: 201.7614986896515\n",
      "Epoch: 14, Steps: 1809 | Train Loss: 0.0043595 Vali Loss: 0.0016959\n",
      "EarlyStopping counter: 2 out of 3\n",
      "Updating learning rate to 1.220703125e-08\n"
     ]
    },
    {
     "name": "stderr",
     "output_type": "stream",
     "text": [
      "100%|██████████| 1809/1809 [03:21<00:00,  8.96it/s]\n"
     ]
    },
    {
     "name": "stdout",
     "output_type": "stream",
     "text": [
      "Epoch: 15 cost time: 201.89740252494812\n",
      "Epoch: 15, Steps: 1809 | Train Loss: 0.0043355 Vali Loss: 0.0016948\n",
      "EarlyStopping counter: 3 out of 3\n",
      "Early stopping\n"
     ]
    },
    {
     "name": "stderr",
     "output_type": "stream",
     "text": [
      "C:\\Users\\misko\\OneDrive - University of Leeds\\Year 4\\Final Year Project\\GitHub\\src\\data\\transformers\\data_loader.py:181: SettingWithCopyWarning: \n",
      "A value is trying to be set on a copy of a slice from a DataFrame.\n",
      "Try using .loc[row_indexer,col_indexer] = value instead\n",
      "\n",
      "See the caveats in the documentation: https://pandas.pydata.org/pandas-docs/stable/user_guide/indexing.html#returning-a-view-versus-a-copy\n",
      "  df_stamp['date'] = pd.to_datetime(df_stamp.date)\n"
     ]
    },
    {
     "name": "stdout",
     "output_type": "stream",
     "text": [
      ">>>>>>>testing: 300-lookback-1-day-30s<<<<<<<<<<<<<<<<<<<<<<<<<<<<<<<<<\n",
      "test 16743\n",
      "loading model\n"
     ]
    },
    {
     "name": "stderr",
     "output_type": "stream",
     "text": [
      "100%|██████████| 558/558 [00:32<00:00, 17.38it/s]\n"
     ]
    },
    {
     "name": "stdout",
     "output_type": "stream",
     "text": [
      "test shape: (558, 30, 30, 1) (558, 30, 30, 1)\n",
      "test shape: (16740, 30, 1) (16740, 30, 1)\n",
      "MAE: 0.0870, MSE: 0.0421, RMSE: 0.2052, MAPE: 32.4985%, MSPE: 970.1859%\n",
      ">>>>>>>start training: 300-lookback-1-day-60s>>>>>>>>>>>>>>>>>>>>>>>>>>\n",
      "train 54269\n",
      "val 13598\n"
     ]
    },
    {
     "name": "stderr",
     "output_type": "stream",
     "text": [
      "100%|██████████| 1808/1808 [03:22<00:00,  8.93it/s]\n"
     ]
    },
    {
     "name": "stdout",
     "output_type": "stream",
     "text": [
      "Epoch: 1 cost time: 202.50202441215515\n",
      "Epoch: 1, Steps: 1808 | Train Loss: 0.0174633 Vali Loss: 0.0068021\n",
      "Validation loss decreased (inf --> 0.006802). Saving model...\n",
      "Updating learning rate to 0.0001\n"
     ]
    },
    {
     "name": "stderr",
     "output_type": "stream",
     "text": [
      "100%|██████████| 1808/1808 [03:21<00:00,  8.96it/s]\n"
     ]
    },
    {
     "name": "stdout",
     "output_type": "stream",
     "text": [
      "Epoch: 2 cost time: 201.89839386940002\n",
      "Epoch: 2, Steps: 1808 | Train Loss: 0.0121695 Vali Loss: 0.0054684\n",
      "Validation loss decreased (0.006802 --> 0.005468). Saving model...\n",
      "Updating learning rate to 5e-05\n"
     ]
    },
    {
     "name": "stderr",
     "output_type": "stream",
     "text": [
      "100%|██████████| 1808/1808 [03:21<00:00,  8.97it/s]\n"
     ]
    },
    {
     "name": "stdout",
     "output_type": "stream",
     "text": [
      "Epoch: 3 cost time: 201.67172241210938\n",
      "Epoch: 3, Steps: 1808 | Train Loss: 0.0106131 Vali Loss: 0.0044085\n",
      "Validation loss decreased (0.005468 --> 0.004409). Saving model...\n",
      "Updating learning rate to 2.5e-05\n"
     ]
    },
    {
     "name": "stderr",
     "output_type": "stream",
     "text": [
      "100%|██████████| 1808/1808 [03:21<00:00,  8.96it/s]\n"
     ]
    },
    {
     "name": "stdout",
     "output_type": "stream",
     "text": [
      "Epoch: 4 cost time: 201.83837819099426\n",
      "Epoch: 4, Steps: 1808 | Train Loss: 0.0100312 Vali Loss: 0.0042701\n",
      "Validation loss decreased (0.004409 --> 0.004270). Saving model...\n",
      "Updating learning rate to 1.25e-05\n"
     ]
    },
    {
     "name": "stderr",
     "output_type": "stream",
     "text": [
      "100%|██████████| 1808/1808 [03:19<00:00,  9.05it/s]\n"
     ]
    },
    {
     "name": "stdout",
     "output_type": "stream",
     "text": [
      "Epoch: 5 cost time: 199.85239791870117\n",
      "Epoch: 5, Steps: 1808 | Train Loss: 0.0096564 Vali Loss: 0.0041684\n",
      "Validation loss decreased (0.004270 --> 0.004168). Saving model...\n",
      "Updating learning rate to 6.25e-06\n"
     ]
    },
    {
     "name": "stderr",
     "output_type": "stream",
     "text": [
      "100%|██████████| 1808/1808 [03:21<00:00,  8.97it/s]\n"
     ]
    },
    {
     "name": "stdout",
     "output_type": "stream",
     "text": [
      "Epoch: 6 cost time: 201.63700199127197\n",
      "Epoch: 6, Steps: 1808 | Train Loss: 0.0094028 Vali Loss: 0.0040833\n",
      "Validation loss decreased (0.004168 --> 0.004083). Saving model...\n",
      "Updating learning rate to 3.125e-06\n"
     ]
    },
    {
     "name": "stderr",
     "output_type": "stream",
     "text": [
      "100%|██████████| 1808/1808 [03:21<00:00,  8.97it/s]\n"
     ]
    },
    {
     "name": "stdout",
     "output_type": "stream",
     "text": [
      "Epoch: 7 cost time: 201.58194661140442\n",
      "Epoch: 7, Steps: 1808 | Train Loss: 0.0092812 Vali Loss: 0.0040892\n",
      "EarlyStopping counter: 1 out of 3\n",
      "Updating learning rate to 1.5625e-06\n"
     ]
    },
    {
     "name": "stderr",
     "output_type": "stream",
     "text": [
      "100%|██████████| 1808/1808 [03:21<00:00,  8.97it/s]\n"
     ]
    },
    {
     "name": "stdout",
     "output_type": "stream",
     "text": [
      "Epoch: 8 cost time: 201.5452423095703\n",
      "Epoch: 8, Steps: 1808 | Train Loss: 0.0092189 Vali Loss: 0.0040713\n",
      "Validation loss decreased (0.004083 --> 0.004071). Saving model...\n",
      "Updating learning rate to 7.8125e-07\n"
     ]
    },
    {
     "name": "stderr",
     "output_type": "stream",
     "text": [
      "100%|██████████| 1808/1808 [03:22<00:00,  8.95it/s]\n"
     ]
    },
    {
     "name": "stdout",
     "output_type": "stream",
     "text": [
      "Epoch: 9 cost time: 202.01644134521484\n",
      "Epoch: 9, Steps: 1808 | Train Loss: 0.0091836 Vali Loss: 0.0041271\n",
      "EarlyStopping counter: 1 out of 3\n",
      "Updating learning rate to 3.90625e-07\n"
     ]
    },
    {
     "name": "stderr",
     "output_type": "stream",
     "text": [
      "100%|██████████| 1808/1808 [03:21<00:00,  8.96it/s]\n"
     ]
    },
    {
     "name": "stdout",
     "output_type": "stream",
     "text": [
      "Epoch: 10 cost time: 201.79324221611023\n",
      "Epoch: 10, Steps: 1808 | Train Loss: 0.0091808 Vali Loss: 0.0041202\n",
      "EarlyStopping counter: 2 out of 3\n",
      "Updating learning rate to 1.953125e-07\n"
     ]
    },
    {
     "name": "stderr",
     "output_type": "stream",
     "text": [
      "100%|██████████| 1808/1808 [03:21<00:00,  8.96it/s]\n"
     ]
    },
    {
     "name": "stdout",
     "output_type": "stream",
     "text": [
      "Epoch: 11 cost time: 201.8597059249878\n",
      "Epoch: 11, Steps: 1808 | Train Loss: 0.0091399 Vali Loss: 0.0040843\n",
      "EarlyStopping counter: 3 out of 3\n",
      "Early stopping\n"
     ]
    },
    {
     "name": "stderr",
     "output_type": "stream",
     "text": [
      "C:\\Users\\misko\\OneDrive - University of Leeds\\Year 4\\Final Year Project\\GitHub\\src\\data\\transformers\\data_loader.py:181: SettingWithCopyWarning: \n",
      "A value is trying to be set on a copy of a slice from a DataFrame.\n",
      "Try using .loc[row_indexer,col_indexer] = value instead\n",
      "\n",
      "See the caveats in the documentation: https://pandas.pydata.org/pandas-docs/stable/user_guide/indexing.html#returning-a-view-versus-a-copy\n",
      "  df_stamp['date'] = pd.to_datetime(df_stamp.date)\n"
     ]
    },
    {
     "name": "stdout",
     "output_type": "stream",
     "text": [
      ">>>>>>>testing: 300-lookback-1-day-60s<<<<<<<<<<<<<<<<<<<<<<<<<<<<<<<<<\n",
      "test 16713\n",
      "loading model\n"
     ]
    },
    {
     "name": "stderr",
     "output_type": "stream",
     "text": [
      "100%|██████████| 557/557 [00:31<00:00, 17.44it/s]\n"
     ]
    },
    {
     "name": "stdout",
     "output_type": "stream",
     "text": [
      "test shape: (557, 30, 60, 1) (557, 30, 60, 1)\n",
      "test shape: (16710, 60, 1) (16710, 60, 1)\n",
      "MAE: 0.1454, MSE: 0.0830, RMSE: 0.2881, MAPE: 52.6850%, MSPE: 1953.6692%\n",
      ">>>>>>>start training: 300-lookback-1-day-180s>>>>>>>>>>>>>>>>>>>>>>>>>>\n",
      "train 54149\n",
      "val 13478\n"
     ]
    },
    {
     "name": "stderr",
     "output_type": "stream",
     "text": [
      "100%|██████████| 1804/1804 [03:21<00:00,  8.93it/s]\n"
     ]
    },
    {
     "name": "stdout",
     "output_type": "stream",
     "text": [
      "Epoch: 1 cost time: 201.90682554244995\n",
      "Epoch: 1, Steps: 1804 | Train Loss: 0.0423997 Vali Loss: 0.0175849\n",
      "Validation loss decreased (inf --> 0.017585). Saving model...\n",
      "Updating learning rate to 0.0001\n"
     ]
    },
    {
     "name": "stderr",
     "output_type": "stream",
     "text": [
      "100%|██████████| 1804/1804 [03:21<00:00,  8.95it/s]\n"
     ]
    },
    {
     "name": "stdout",
     "output_type": "stream",
     "text": [
      "Epoch: 2 cost time: 201.66229820251465\n",
      "Epoch: 2, Steps: 1804 | Train Loss: 0.0356960 Vali Loss: 0.0171701\n",
      "Validation loss decreased (0.017585 --> 0.017170). Saving model...\n",
      "Updating learning rate to 5e-05\n"
     ]
    },
    {
     "name": "stderr",
     "output_type": "stream",
     "text": [
      "100%|██████████| 1804/1804 [03:21<00:00,  8.95it/s]\n"
     ]
    },
    {
     "name": "stdout",
     "output_type": "stream",
     "text": [
      "Epoch: 3 cost time: 201.4812581539154\n",
      "Epoch: 3, Steps: 1804 | Train Loss: 0.0320441 Vali Loss: 0.0169865\n",
      "Validation loss decreased (0.017170 --> 0.016986). Saving model...\n",
      "Updating learning rate to 2.5e-05\n"
     ]
    },
    {
     "name": "stderr",
     "output_type": "stream",
     "text": [
      "100%|██████████| 1804/1804 [03:21<00:00,  8.95it/s]\n"
     ]
    },
    {
     "name": "stdout",
     "output_type": "stream",
     "text": [
      "Epoch: 4 cost time: 201.50308227539062\n",
      "Epoch: 4, Steps: 1804 | Train Loss: 0.0305482 Vali Loss: 0.0159641\n",
      "Validation loss decreased (0.016986 --> 0.015964). Saving model...\n",
      "Updating learning rate to 1.25e-05\n"
     ]
    },
    {
     "name": "stderr",
     "output_type": "stream",
     "text": [
      "100%|██████████| 1804/1804 [03:22<00:00,  8.93it/s]\n"
     ]
    },
    {
     "name": "stdout",
     "output_type": "stream",
     "text": [
      "Epoch: 5 cost time: 202.10373759269714\n",
      "Epoch: 5, Steps: 1804 | Train Loss: 0.0293860 Vali Loss: 0.0157475\n",
      "Validation loss decreased (0.015964 --> 0.015747). Saving model...\n",
      "Updating learning rate to 6.25e-06\n"
     ]
    },
    {
     "name": "stderr",
     "output_type": "stream",
     "text": [
      "100%|██████████| 1804/1804 [03:21<00:00,  8.95it/s]\n"
     ]
    },
    {
     "name": "stdout",
     "output_type": "stream",
     "text": [
      "Epoch: 6 cost time: 201.53135466575623\n",
      "Epoch: 6, Steps: 1804 | Train Loss: 0.0286739 Vali Loss: 0.0167423\n",
      "EarlyStopping counter: 1 out of 3\n",
      "Updating learning rate to 3.125e-06\n"
     ]
    },
    {
     "name": "stderr",
     "output_type": "stream",
     "text": [
      "100%|██████████| 1804/1804 [03:21<00:00,  8.95it/s]\n"
     ]
    },
    {
     "name": "stdout",
     "output_type": "stream",
     "text": [
      "Epoch: 7 cost time: 201.5670669078827\n",
      "Epoch: 7, Steps: 1804 | Train Loss: 0.0283888 Vali Loss: 0.0157953\n",
      "EarlyStopping counter: 2 out of 3\n",
      "Updating learning rate to 1.5625e-06\n"
     ]
    },
    {
     "name": "stderr",
     "output_type": "stream",
     "text": [
      "100%|██████████| 1804/1804 [03:24<00:00,  8.82it/s]\n"
     ]
    },
    {
     "name": "stdout",
     "output_type": "stream",
     "text": [
      "Epoch: 8 cost time: 204.50883674621582\n",
      "Epoch: 8, Steps: 1804 | Train Loss: 0.0281211 Vali Loss: 0.0157712\n",
      "EarlyStopping counter: 3 out of 3\n",
      "Early stopping\n"
     ]
    },
    {
     "name": "stderr",
     "output_type": "stream",
     "text": [
      "C:\\Users\\misko\\OneDrive - University of Leeds\\Year 4\\Final Year Project\\GitHub\\src\\data\\transformers\\data_loader.py:181: SettingWithCopyWarning: \n",
      "A value is trying to be set on a copy of a slice from a DataFrame.\n",
      "Try using .loc[row_indexer,col_indexer] = value instead\n",
      "\n",
      "See the caveats in the documentation: https://pandas.pydata.org/pandas-docs/stable/user_guide/indexing.html#returning-a-view-versus-a-copy\n",
      "  df_stamp['date'] = pd.to_datetime(df_stamp.date)\n"
     ]
    },
    {
     "name": "stdout",
     "output_type": "stream",
     "text": [
      ">>>>>>>testing: 300-lookback-1-day-180s<<<<<<<<<<<<<<<<<<<<<<<<<<<<<<<<<\n",
      "test 16593\n",
      "loading model\n"
     ]
    },
    {
     "name": "stderr",
     "output_type": "stream",
     "text": [
      "100%|██████████| 553/553 [00:32<00:00, 17.00it/s]\n"
     ]
    },
    {
     "name": "stdout",
     "output_type": "stream",
     "text": [
      "test shape: (553, 30, 180, 1) (553, 30, 180, 1)\n",
      "test shape: (16590, 180, 1) (16590, 180, 1)\n",
      "MAE: 0.3045, MSE: 0.2304, RMSE: 0.4800, MAPE: 116.0510%, MSPE: 6029.7405%\n"
     ]
    }
   ],
   "source": [
    "# Define the settings\n",
    "pred_lens = [30,60, 180]\n",
    "\n",
    "# Loop over the prediction lengths\n",
    "for pred_len in pred_lens:\n",
    "    args.seq_len = 300 # input sequence length of Informer encoder\n",
    "    args.label_len = 90 # start token length of Informer decoder\n",
    "\n",
    "    # Set the arguments for this run\n",
    "    run_name = \"300-lookback-1-day-{}s\".format(pred_len)\n",
    "    args.run_name = run_name\n",
    "    args.pred_len = pred_len\n",
    "\n",
    "    setting = '{}_{}_ft{}_sl{}_ll{}_pl{}_dm{}_nh{}_el{}_dl{}_df{}_at{}_fc{}_eb{}_dt{}_mx{}_{}_{}'.format(args.model, args.data, args.features,\n",
    "            args.seq_len, args.label_len, args.pred_len,\n",
    "            args.d_model, args.n_heads, args.e_layers, args.d_layers, args.d_ff, args.attn, args.factor, args.embed, args.distil, args.mix, args.des, ii)\n",
    "\n",
    "\n",
    "    model = build_model(args)\n",
    "    model.to(args.device)\n",
    "\n",
    "\n",
    "    # Train the model\n",
    "    print('>>>>>>>start training: {}>>>>>>>>>>>>>>>>>>>>>>>>>>'.format(run_name))\n",
    "    model, args = train(model=model, args=args, setting=setting)\n",
    "\n",
    "    # Test the model\n",
    "    print('>>>>>>>testing: {}<<<<<<<<<<<<<<<<<<<<<<<<<<<<<<<<<'.format(run_name))\n",
    "    test(model=model, args=args, setting=setting)\n",
    "\n",
    "    # Clear the GPU cache\n",
    "    torch.cuda.empty_cache()"
   ],
   "metadata": {
    "collapsed": false
   }
  },
  {
   "cell_type": "code",
   "execution_count": null,
   "outputs": [],
   "source": [],
   "metadata": {
    "collapsed": false
   }
  }
 ],
 "metadata": {
  "kernelspec": {
   "display_name": "Python 3",
   "language": "python",
   "name": "python3"
  },
  "language_info": {
   "codemirror_mode": {
    "name": "ipython",
    "version": 2
   },
   "file_extension": ".py",
   "mimetype": "text/x-python",
   "name": "python",
   "nbconvert_exporter": "python",
   "pygments_lexer": "ipython2",
   "version": "2.7.6"
  }
 },
 "nbformat": 4,
 "nbformat_minor": 0
}

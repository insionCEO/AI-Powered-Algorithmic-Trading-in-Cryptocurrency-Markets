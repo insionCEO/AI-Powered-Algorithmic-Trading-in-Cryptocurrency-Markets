{
 "cells": [
  {
   "cell_type": "code",
   "execution_count": 1,
   "metadata": {
    "collapsed": true
   },
   "outputs": [
    {
     "ename": "ModuleNotFoundError",
     "evalue": "No module named 'transformers_support'",
     "output_type": "error",
     "traceback": [
      "\u001B[1;31m---------------------------------------------------------------------------\u001B[0m",
      "\u001B[1;31mModuleNotFoundError\u001B[0m                       Traceback (most recent call last)",
      "Cell \u001B[1;32mIn[1], line 4\u001B[0m\n\u001B[0;32m      1\u001B[0m \u001B[38;5;28;01mimport\u001B[39;00m \u001B[38;5;21;01mpandas\u001B[39;00m \u001B[38;5;28;01mas\u001B[39;00m \u001B[38;5;21;01mpd\u001B[39;00m\n\u001B[0;32m      2\u001B[0m \u001B[38;5;28;01mimport\u001B[39;00m \u001B[38;5;21;01mos\u001B[39;00m\n\u001B[1;32m----> 4\u001B[0m \u001B[38;5;28;01mfrom\u001B[39;00m \u001B[38;5;21;01mtransformers_support\u001B[39;00m\u001B[38;5;21;01m.\u001B[39;00m\u001B[38;5;21;01mtransformer_integration\u001B[39;00m \u001B[38;5;28;01mimport\u001B[39;00m Transformer_Predict\n",
      "\u001B[1;31mModuleNotFoundError\u001B[0m: No module named 'transformers_support'"
     ]
    }
   ],
   "source": [
    "import pandas as pd\n",
    "import os\n",
    "\n",
    "from transformers_support.transformer_integration import Transformer_Predict"
   ]
  },
  {
   "cell_type": "code",
   "execution_count": null,
   "outputs": [],
   "source": [
    "#testing data import\n",
    "df_raw = pd.read_csv(\"C:\\\\Users\\misko\\OneDrive - University of Leeds\\Year 4\\Final Year Project\\GitHub\\data\\processed\\\\train\\processed-data-train-BTC.csv\")\n",
    "\n",
    "\n",
    "df_raw.head()\n",
    "\n",
    "num_points = 96\n",
    "data_df = df_raw[:num_points]\n",
    "\n",
    "data_df"
   ],
   "metadata": {
    "collapsed": false
   }
  },
  {
   "cell_type": "code",
   "execution_count": 5,
   "outputs": [
    {
     "name": "stdout",
     "output_type": "stream",
     "text": [
      "{'model': 'informer', 'data': 'BTC', 'root_path_train': '../data/processed/train/', 'data_path_train': 'processed-data-train-BTC.csv', 'root_path_test': '../data/processed/test/', 'data_path_test': 'processed-data-test-BTC.csv', 'features': 'S', 'target': 'midpoint', 'freq': 'Sec', 'normalise': True, 'checkpoints': '../experiments/checkpoints', 'timestamp': True, 'experiment_name': 'Testing-MLFlow', 'run_name': 'Run-5-Same-Run-Id', 'seq_len': 96, 'label_len': 48, 'pred_len': 48, 'enc_in': 1, 'dec_in': 1, 'c_out': 1, 'factor': 5, 'd_model': 512, 'n_heads': 8, 'e_layers': 2, 'd_layers': 1, 'd_ff': 2048, 'dropout': 0.05, 'attn': 'prob', 'embed': 'timeF', 'activation': 'gelu', 'distil': True, 'output_attention': False, 'mix': True, 'padding': 0, 'batch_size': 32, 'learning_rate': 0.0001, 'loss': 'mse', 'lr_adj': 'type1', 'use_amp': False, 'num_workers': 0, 'itr': 1, 'train_epochs': 1, 'patience': 3, 'des': 'exp', 'use_gpu': True, 'gpu': 0, 'device': 'cuda:0', 'run_id': 'a68e32ee1a0f4da3bf59325c03667982', 'seq_length': 96}\n"
     ]
    }
   ],
   "source": [
    "# Create an instance of the Transformer_Predict class\n",
    "path_to_checkpoint = \"../experiments/checkpoints/informer_BTC_ftS_sl96_ll48_pl24_dm512_nh8_el2_dl1_df2048_atprob_fc5_ebtimeF_dtTrue_mxTrue_exp_1/checkpoint.pth\"\n",
    "path_to_args_txt = \"../experiments/checkpoints/informer_BTC_ftS_sl96_ll48_pl24_dm512_nh8_el2_dl1_df2048_atprob_fc5_ebtimeF_dtTrue_mxTrue_exp_1/args.txt\"\n",
    "\n",
    "input_sequence_length = 96\n",
    "lebel_length = 48 #how much past data to feed into the decoder\n",
    "pred_length = 48 #output sequence length\n",
    "\n",
    "input_df = data_df\n",
    "\n",
    "device = \"cuda:0\" # \"cuda:0\" or \"cpu\"\n",
    "\n",
    "tp = Transformer_Predict(seq_length=input_sequence_length,\n",
    "                         label_len=lebel_length,\n",
    "                         pred_len=pred_length,\n",
    "                         data_df=input_df,\n",
    "                         path_to_args_txt=path_to_args_txt,\n",
    "                         path_to_checkpoints=path_to_checkpoint,\n",
    "                         device=\"cuda:0\")\n",
    "\n",
    "\n",
    "args_dotdict = tp._args_as_dotdict()\n",
    "print(args_dotdict)"
   ],
   "metadata": {
    "collapsed": false
   }
  },
  {
   "cell_type": "code",
   "execution_count": 14,
   "outputs": [
    {
     "name": "stdout",
     "output_type": "stream",
     "text": [
      "loading model\n"
     ]
    }
   ],
   "source": [
    "# Load the model\n",
    "model = tp.load_model_pred()"
   ],
   "metadata": {
    "collapsed": false
   }
  },
  {
   "cell_type": "code",
   "execution_count": 15,
   "outputs": [
    {
     "ename": "AttributeError",
     "evalue": "'Strategy' object has no attribute 'predictions'",
     "output_type": "error",
     "traceback": [
      "\u001B[1;31m---------------------------------------------------------------------------\u001B[0m",
      "\u001B[1;31mAttributeError\u001B[0m                            Traceback (most recent call last)",
      "Cell \u001B[1;32mIn[15], line 2\u001B[0m\n\u001B[0;32m      1\u001B[0m \u001B[38;5;66;03m# Make predictions using the model\u001B[39;00m\n\u001B[1;32m----> 2\u001B[0m preds \u001B[38;5;241m=\u001B[39m \u001B[43mstrat\u001B[49m\u001B[38;5;241;43m.\u001B[39;49m\u001B[43mpredictions\u001B[49m(data_df)\n\u001B[0;32m      4\u001B[0m \u001B[38;5;66;03m# Print the predictions\u001B[39;00m\n\u001B[0;32m      5\u001B[0m \u001B[38;5;28mprint\u001B[39m(preds)\n",
      "\u001B[1;31mAttributeError\u001B[0m: 'Strategy' object has no attribute 'predictions'"
     ]
    }
   ],
   "source": [
    "# Make predictions using the model\n",
    "preds = tp.pre(data_df)\n",
    "\n",
    "# Print the predictions\n",
    "print(preds)"
   ],
   "metadata": {
    "collapsed": false
   }
  },
  {
   "cell_type": "code",
   "execution_count": null,
   "outputs": [],
   "source": [],
   "metadata": {
    "collapsed": false
   }
  }
 ],
 "metadata": {
  "kernelspec": {
   "display_name": "Python 3 (ipykernel)",
   "language": "python",
   "name": "python3"
  },
  "language_info": {
   "codemirror_mode": {
    "name": "ipython",
    "version": 3
   },
   "file_extension": ".py",
   "mimetype": "text/x-python",
   "name": "python",
   "nbconvert_exporter": "python",
   "pygments_lexer": "ipython3",
   "version": "3.8.16"
  }
 },
 "nbformat": 4,
 "nbformat_minor": 1
}

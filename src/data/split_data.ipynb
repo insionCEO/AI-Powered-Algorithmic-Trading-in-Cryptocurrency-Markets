{
 "cells": [
  {
   "cell_type": "code",
   "execution_count": 1,
   "id": "dc17fd7d",
   "metadata": {},
   "outputs": [
    {
     "ename": "ModuleNotFoundError",
     "evalue": "No module named 'pandas'",
     "output_type": "error",
     "traceback": [
      "\u001b[0;31m---------------------------------------------------------------------------\u001b[0m",
      "\u001b[0;31mModuleNotFoundError\u001b[0m                       Traceback (most recent call last)",
      "\u001b[0;32m/tmp/ipykernel_12327/9028244.py\u001b[0m in \u001b[0;36m<module>\u001b[0;34m\u001b[0m\n\u001b[1;32m      1\u001b[0m \u001b[0;31m## SPLIT PROCESSED DATA IN TRAIN AND TEST\u001b[0m\u001b[0;34m\u001b[0m\u001b[0;34m\u001b[0m\u001b[0;34m\u001b[0m\u001b[0m\n\u001b[1;32m      2\u001b[0m \u001b[0;34m\u001b[0m\u001b[0m\n\u001b[0;32m----> 3\u001b[0;31m \u001b[0;32mimport\u001b[0m \u001b[0mpandas\u001b[0m \u001b[0;32mas\u001b[0m \u001b[0mpd\u001b[0m\u001b[0;34m\u001b[0m\u001b[0;34m\u001b[0m\u001b[0m\n\u001b[0m\u001b[1;32m      4\u001b[0m \u001b[0;32mfrom\u001b[0m \u001b[0msklearn\u001b[0m\u001b[0;34m.\u001b[0m\u001b[0mmodel_selection\u001b[0m \u001b[0;32mimport\u001b[0m \u001b[0mtrain_test_split\u001b[0m\u001b[0;34m\u001b[0m\u001b[0;34m\u001b[0m\u001b[0m\n\u001b[1;32m      5\u001b[0m \u001b[0;34m\u001b[0m\u001b[0m\n",
      "\u001b[0;31mModuleNotFoundError\u001b[0m: No module named 'pandas'"
     ]
    }
   ],
   "source": [
    "## SPLIT PROCESSED DATA IN TRAIN AND TEST\n",
    "\n",
    "import pandas as pd\n",
    "from sklearn.model_selection import train_test_split\n",
    "\n",
    "# orderbook_path = \"../../data/raw/orderbook/BTC-daily-orderbook.csv\"\n",
    "# orderbook_path = \"../../data/processed/orderbook/BTC-1s.csv\"\n",
    "orderbook_path = \"../../data/processed/orderbook/ETH-1s.csv\"\n",
    "\n",
    "\n",
    "# train_output_path = \"../../data/processed/train/raw-data-train-BTC.csv\"\n",
    "# train_output_path = \"../../data/processed/train/processed-data-train-BTC.csv\"\n",
    "train_output_path = \"../../data/processed/train/processed-data-train-ETH.csv\"\n",
    "\n",
    "\n",
    "# test_output_path = \"../../data/processed/test/raw-data-test-BTC.csv\"\n",
    "# test_output_path = \"../../data/processed/test/processed-data-test-BTC.csv\"\n",
    "test_output_path = \"../../data/processed/test/processed-data-test-ETH.csv\"\n",
    "\n",
    "\n",
    "\n",
    "df = pd.read_csv(orderbook_path)\n",
    "train_data, test_data = train_test_split(df, test_size=0.2, shuffle=False)\n",
    "\n",
    "train_data.to_csv(train_output_path, mode='a', header=False, index=False)\n",
    "test_data.to_csv(test_output_path, mode='a', header=False, index=False)"
   ]
  },
  {
   "cell_type": "code",
   "execution_count": null,
   "id": "b9bfc59a",
   "metadata": {},
   "outputs": [],
   "source": []
  }
 ],
 "metadata": {
  "kernelspec": {
   "display_name": "Python 3 (ipykernel)",
   "language": "python",
   "name": "python3"
  },
  "language_info": {
   "codemirror_mode": {
    "name": "ipython",
    "version": 3
   },
   "file_extension": ".py",
   "mimetype": "text/x-python",
   "name": "python",
   "nbconvert_exporter": "python",
   "pygments_lexer": "ipython3",
   "version": "3.8.10"
  }
 },
 "nbformat": 4,
 "nbformat_minor": 5
}

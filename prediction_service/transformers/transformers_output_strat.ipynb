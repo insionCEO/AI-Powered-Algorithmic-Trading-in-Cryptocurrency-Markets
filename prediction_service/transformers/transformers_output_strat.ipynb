{
 "cells": [
  {
   "cell_type": "code",
   "execution_count": 2,
   "metadata": {
    "collapsed": true
   },
   "outputs": [],
   "source": [
    "# Note: this a testing file for the use case of running price predictions with transformers\n",
    "import pandas as pd\n",
    "import os\n",
    "\n",
    "from prediction_service.transformer_predictor import TransformerPredictor"
   ]
  },
  {
   "cell_type": "code",
   "execution_count": 3,
   "metadata": {
    "collapsed": false
   },
   "outputs": [
    {
     "data": {
      "text/html": [
       "<div>\n",
       "<style scoped>\n",
       "    .dataframe tbody tr th:only-of-type {\n",
       "        vertical-align: middle;\n",
       "    }\n",
       "\n",
       "    .dataframe tbody tr th {\n",
       "        vertical-align: top;\n",
       "    }\n",
       "\n",
       "    .dataframe thead th {\n",
       "        text-align: right;\n",
       "    }\n",
       "</style>\n",
       "<table border=\"1\" class=\"dataframe\">\n",
       "  <thead>\n",
       "    <tr style=\"text-align: right;\">\n",
       "      <th></th>\n",
       "      <th>timestamp</th>\n",
       "      <th>midpoint</th>\n",
       "      <th>spread</th>\n",
       "    </tr>\n",
       "  </thead>\n",
       "  <tbody>\n",
       "    <tr>\n",
       "      <th>0</th>\n",
       "      <td>1673049601244</td>\n",
       "      <td>16943.60</td>\n",
       "      <td>0.6</td>\n",
       "    </tr>\n",
       "    <tr>\n",
       "      <th>1</th>\n",
       "      <td>1673049602437</td>\n",
       "      <td>16946.30</td>\n",
       "      <td>7.6</td>\n",
       "    </tr>\n",
       "    <tr>\n",
       "      <th>2</th>\n",
       "      <td>1673049603697</td>\n",
       "      <td>16946.30</td>\n",
       "      <td>7.6</td>\n",
       "    </tr>\n",
       "    <tr>\n",
       "      <th>3</th>\n",
       "      <td>1673049605334</td>\n",
       "      <td>16943.85</td>\n",
       "      <td>0.1</td>\n",
       "    </tr>\n",
       "    <tr>\n",
       "      <th>4</th>\n",
       "      <td>1673049606470</td>\n",
       "      <td>16943.85</td>\n",
       "      <td>0.1</td>\n",
       "    </tr>\n",
       "    <tr>\n",
       "      <th>...</th>\n",
       "      <td>...</td>\n",
       "      <td>...</td>\n",
       "      <td>...</td>\n",
       "    </tr>\n",
       "    <tr>\n",
       "      <th>139</th>\n",
       "      <td>1673049742837</td>\n",
       "      <td>16944.10</td>\n",
       "      <td>0.6</td>\n",
       "    </tr>\n",
       "    <tr>\n",
       "      <th>140</th>\n",
       "      <td>1673049743844</td>\n",
       "      <td>16943.50</td>\n",
       "      <td>0.0</td>\n",
       "    </tr>\n",
       "    <tr>\n",
       "      <th>141</th>\n",
       "      <td>1673049744851</td>\n",
       "      <td>16943.45</td>\n",
       "      <td>0.1</td>\n",
       "    </tr>\n",
       "    <tr>\n",
       "      <th>142</th>\n",
       "      <td>1673049745853</td>\n",
       "      <td>16943.45</td>\n",
       "      <td>0.1</td>\n",
       "    </tr>\n",
       "    <tr>\n",
       "      <th>143</th>\n",
       "      <td>1673049746858</td>\n",
       "      <td>16943.45</td>\n",
       "      <td>0.1</td>\n",
       "    </tr>\n",
       "  </tbody>\n",
       "</table>\n",
       "<p>144 rows × 3 columns</p>\n",
       "</div>"
      ],
      "text/plain": [
       "         timestamp  midpoint  spread\n",
       "0    1673049601244  16943.60     0.6\n",
       "1    1673049602437  16946.30     7.6\n",
       "2    1673049603697  16946.30     7.6\n",
       "3    1673049605334  16943.85     0.1\n",
       "4    1673049606470  16943.85     0.1\n",
       "..             ...       ...     ...\n",
       "139  1673049742837  16944.10     0.6\n",
       "140  1673049743844  16943.50     0.0\n",
       "141  1673049744851  16943.45     0.1\n",
       "142  1673049745853  16943.45     0.1\n",
       "143  1673049746858  16943.45     0.1\n",
       "\n",
       "[144 rows x 3 columns]"
      ]
     },
     "execution_count": 3,
     "metadata": {},
     "output_type": "execute_result"
    }
   ],
   "source": [
    "#testing data import\n",
    "df_raw = pd.read_csv(\"C:\\\\Users\\misko\\OneDrive - University of Leeds\\Year 4\\Final Year Project\\GitHub\\data\\processed\\\\train\\processed-data-train-BTC.csv\")\n",
    "\n",
    "\n",
    "df_raw.head()\n",
    "\n",
    "num_points = 96 + 48\n",
    "data_df = df_raw[:num_points]\n",
    "\n",
    "# data_df['timestamp'] = pd.to_datetime(data_df['timestamp'], unit='ms')\n",
    "\n",
    "data_df"
   ]
  },
  {
   "cell_type": "code",
   "execution_count": 4,
   "metadata": {
    "collapsed": false
   },
   "outputs": [],
   "source": [
    "# Create an instance of the Transformer_Predict class\n",
    "path_to_model = \"../experiments/checkpoints/\"\n",
    "model = \"pyraformer_BTC_ftS_sl96_ll48_pl24_dm512_nh8_el2_dl2_df2048_atprob_fc5_ebtimeF_dtTrue_mxTrue_exp_1\"\n",
    "\n",
    "path_to_checkpoint = os.path.join(path_to_model, model, \"checkpoint.pth\")\n",
    "path_to_args_txt = os.path.join(path_to_model, model, \"args.txt\")\n",
    "\n",
    "input_sequence_length = 96\n",
    "lebel_length = 48 #how much past data to feed into the decoder\n",
    "pred_length = 24 #output sequence length\n",
    "\n",
    "input_df = data_df\n",
    "\n",
    "device = \"cpu\" # \"cuda:0\" or \"cpu\"\n",
    "\n",
    "strat = TransformerPredictor(seq_length=input_sequence_length,\n",
    "                         label_len=lebel_length,\n",
    "                         pred_len=pred_length,\n",
    "                         path_to_args_txt=path_to_args_txt,\n",
    "                         path_to_checkpoints=path_to_checkpoint,\n",
    "                         device=device)\n",
    "\n"
   ]
  },
  {
   "cell_type": "code",
   "execution_count": 5,
   "metadata": {
    "collapsed": false
   },
   "outputs": [
    {
     "data": {
      "text/plain": [
       "[4, 4]"
      ]
     },
     "execution_count": 5,
     "metadata": {},
     "output_type": "execute_result"
    }
   ],
   "source": [
    "args = strat._args_as_dotdict()\n",
    "args.window_size"
   ]
  },
  {
   "cell_type": "code",
   "execution_count": 6,
   "metadata": {
    "collapsed": false
   },
   "outputs": [
    {
     "name": "stdout",
     "output_type": "stream",
     "text": [
      "loading model\n"
     ]
    }
   ],
   "source": [
    "# Load the model\n",
    "model = strat.load_model_pred()"
   ]
  },
  {
   "cell_type": "code",
   "execution_count": 7,
   "metadata": {
    "collapsed": false
   },
   "outputs": [
    {
     "name": "stdout",
     "output_type": "stream",
     "text": [
      "0\n",
      "                      Date         price\n",
      "0  2023-01-07 00:02:27.858  16946.228516\n",
      "1  2023-01-07 00:02:28.858  16946.318359\n",
      "2  2023-01-07 00:02:29.858  16946.246094\n",
      "3  2023-01-07 00:02:30.858  16946.283203\n",
      "4  2023-01-07 00:02:31.858  16946.173828\n",
      "5  2023-01-07 00:02:32.858  16946.082031\n",
      "6  2023-01-07 00:02:33.858  16946.169922\n",
      "7  2023-01-07 00:02:34.858  16946.224609\n",
      "8  2023-01-07 00:02:35.858  16946.296875\n",
      "9  2023-01-07 00:02:36.858  16946.287109\n",
      "10 2023-01-07 00:02:37.858  16946.269531\n",
      "11 2023-01-07 00:02:38.858  16946.283203\n",
      "12 2023-01-07 00:02:39.858  16946.167969\n",
      "13 2023-01-07 00:02:40.858  16946.201172\n",
      "14 2023-01-07 00:02:41.858  16946.287109\n",
      "15 2023-01-07 00:02:42.858  16946.199219\n",
      "16 2023-01-07 00:02:43.858  16946.287109\n",
      "17 2023-01-07 00:02:44.858  16946.402344\n",
      "18 2023-01-07 00:02:45.858  16946.292969\n",
      "19 2023-01-07 00:02:46.858  16946.291016\n",
      "20 2023-01-07 00:02:47.858  16946.375000\n",
      "21 2023-01-07 00:02:48.858  16946.296875\n",
      "22 2023-01-07 00:02:49.858  16946.292969\n",
      "23 2023-01-07 00:02:50.858  16946.382812\n"
     ]
    }
   ],
   "source": [
    "# Make predictions using the model\n",
    "preds = strat.calculate_signals(data_df)\n",
    "\n",
    "# Print the predictions\n",
    "print(preds)"
   ]
  },
  {
   "cell_type": "code",
   "execution_count": null,
   "metadata": {
    "collapsed": false
   },
   "outputs": [],
   "source": []
  },
  {
   "cell_type": "code",
   "execution_count": null,
   "metadata": {
    "collapsed": false
   },
   "outputs": [],
   "source": []
  }
 ],
 "metadata": {
  "kernelspec": {
   "display_name": "Python 3 (ipykernel)",
   "language": "python",
   "name": "python3"
  },
  "language_info": {
   "codemirror_mode": {
    "name": "ipython",
    "version": 3
   },
   "file_extension": ".py",
   "mimetype": "text/x-python",
   "name": "python",
   "nbconvert_exporter": "python",
   "pygments_lexer": "ipython3",
   "version": "3.8.16"
  }
 },
 "nbformat": 4,
 "nbformat_minor": 1
}
